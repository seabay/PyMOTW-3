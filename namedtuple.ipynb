{
 "cells": [
  {
   "cell_type": "code",
   "execution_count": 1,
   "metadata": {},
   "outputs": [
    {
     "name": "stdout",
     "output_type": "stream",
     "text": [
      "Representation: ('Bob', 30, 'male')\n",
      "\n",
      "Field by index: Jane\n",
      "\n",
      "Fields by index:\n",
      "Bob is a 30 year old male\n",
      "Jane is a 29 year old female\n"
     ]
    }
   ],
   "source": [
    "bob = ('Bob', 30, 'male')\n",
    "print('Representation:', bob)\n",
    "\n",
    "jane = ('Jane', 29, 'female')\n",
    "print('\\nField by index:', jane[0])\n",
    "\n",
    "print('\\nFields by index:')\n",
    "for p in [bob, jane]:\n",
    "    print('{} is a {} year old {}'.format(*p))"
   ]
  },
  {
   "cell_type": "code",
   "execution_count": 2,
   "metadata": {},
   "outputs": [],
   "source": [
    "import collections\n",
    "\n"
   ]
  },
  {
   "cell_type": "code",
   "execution_count": 3,
   "metadata": {},
   "outputs": [
    {
     "name": "stdout",
     "output_type": "stream",
     "text": [
      "\n",
      "Representation: Person(name='Bob', age=30)\n",
      "\n",
      "Field by name: Jane\n",
      "\n",
      "Fields by index:\n",
      "Bob is 30 years old\n",
      "Jane is 29 years old\n"
     ]
    }
   ],
   "source": [
    "Person = collections.namedtuple('Person', 'name age')\n",
    "\n",
    "bob = Person(name='Bob', age=30)\n",
    "print('\\nRepresentation:', bob)\n",
    "\n",
    "jane = Person(name='Jane', age=29)\n",
    "print('\\nField by name:', jane.name)\n",
    "\n",
    "print('\\nFields by index:')\n",
    "for p in [bob, jane]:\n",
    "    print('{} is {} years old'.format(*p))"
   ]
  },
  {
   "cell_type": "code",
   "execution_count": null,
   "metadata": {},
   "outputs": [],
   "source": []
  },
  {
   "cell_type": "code",
   "execution_count": 4,
   "metadata": {},
   "outputs": [
    {
     "name": "stdout",
     "output_type": "stream",
     "text": [
      "\n",
      "Representation: Person(name='Pat', age=12)\n"
     ]
    },
    {
     "ename": "AttributeError",
     "evalue": "can't set attribute",
     "output_type": "error",
     "traceback": [
      "\u001b[0;31m---------------------------------------------------------------------------\u001b[0m",
      "\u001b[0;31mAttributeError\u001b[0m                            Traceback (most recent call last)",
      "\u001b[0;32m<ipython-input-4-4c40f766dbd3>\u001b[0m in \u001b[0;36m<module>\u001b[0;34m\u001b[0m\n\u001b[1;32m      6\u001b[0m \u001b[0mprint\u001b[0m\u001b[0;34m(\u001b[0m\u001b[0;34m'\\nRepresentation:'\u001b[0m\u001b[0;34m,\u001b[0m \u001b[0mpat\u001b[0m\u001b[0;34m)\u001b[0m\u001b[0;34m\u001b[0m\u001b[0;34m\u001b[0m\u001b[0m\n\u001b[1;32m      7\u001b[0m \u001b[0;34m\u001b[0m\u001b[0m\n\u001b[0;32m----> 8\u001b[0;31m \u001b[0mpat\u001b[0m\u001b[0;34m.\u001b[0m\u001b[0mage\u001b[0m \u001b[0;34m=\u001b[0m \u001b[0;36m21\u001b[0m\u001b[0;34m\u001b[0m\u001b[0;34m\u001b[0m\u001b[0m\n\u001b[0m",
      "\u001b[0;31mAttributeError\u001b[0m: can't set attribute"
     ]
    }
   ],
   "source": [
    "import collections\n",
    "\n",
    "Person = collections.namedtuple('Person', 'name age')\n",
    "\n",
    "pat = Person(name='Pat', age=12)\n",
    "print('\\nRepresentation:', pat)\n",
    "\n",
    "pat.age = 21"
   ]
  },
  {
   "cell_type": "code",
   "execution_count": null,
   "metadata": {},
   "outputs": [],
   "source": []
  },
  {
   "cell_type": "code",
   "execution_count": 5,
   "metadata": {},
   "outputs": [
    {
     "name": "stdout",
     "output_type": "stream",
     "text": [
      "Type names and field names cannot be a keyword: 'class'\n",
      "Encountered duplicate field name: 'age'\n"
     ]
    }
   ],
   "source": [
    "import collections\n",
    "\n",
    "try:\n",
    "    collections.namedtuple('Person', 'name class age')\n",
    "except ValueError as err:\n",
    "    print(err)\n",
    "\n",
    "try:\n",
    "    collections.namedtuple('Person', 'name age age')\n",
    "except ValueError as err:\n",
    "    print(err)"
   ]
  },
  {
   "cell_type": "code",
   "execution_count": null,
   "metadata": {},
   "outputs": [],
   "source": []
  },
  {
   "cell_type": "code",
   "execution_count": 6,
   "metadata": {},
   "outputs": [
    {
     "name": "stdout",
     "output_type": "stream",
     "text": [
      "('name', '_1', 'age')\n",
      "('name', 'age', '_2')\n"
     ]
    }
   ],
   "source": [
    "\n",
    "with_class = collections.namedtuple(\n",
    "    'Person', 'name class age',\n",
    "    rename=True)\n",
    "print(with_class._fields)\n",
    "\n",
    "two_ages = collections.namedtuple(\n",
    "    'Person', 'name age age',\n",
    "    rename=True)\n",
    "print(two_ages._fields)"
   ]
  },
  {
   "cell_type": "code",
   "execution_count": null,
   "metadata": {},
   "outputs": [],
   "source": []
  },
  {
   "cell_type": "code",
   "execution_count": 7,
   "metadata": {},
   "outputs": [
    {
     "name": "stdout",
     "output_type": "stream",
     "text": [
      "Representation: Person(name='Bob', age=30)\n",
      "Fields: ('name', 'age')\n"
     ]
    }
   ],
   "source": [
    "Person = collections.namedtuple('Person', 'name age')\n",
    "\n",
    "bob = Person(name='Bob', age=30)\n",
    "print('Representation:', bob)\n",
    "print('Fields:', bob._fields)  # The names of the fields passed to namedtuple to define the new class are saved in the _fields attribute."
   ]
  },
  {
   "cell_type": "code",
   "execution_count": null,
   "metadata": {},
   "outputs": [],
   "source": []
  },
  {
   "cell_type": "code",
   "execution_count": 8,
   "metadata": {},
   "outputs": [
    {
     "name": "stdout",
     "output_type": "stream",
     "text": [
      "Representation: Person(name='Bob', age=30)\n",
      "As Dictionary: OrderedDict([('name', 'Bob'), ('age', 30)])\n"
     ]
    }
   ],
   "source": [
    "import collections\n",
    "\n",
    "Person = collections.namedtuple('Person', 'name age')\n",
    "\n",
    "bob = Person(name='Bob', age=30)\n",
    "print('Representation:', bob)\n",
    "print('As Dictionary:', bob._asdict())\n"
   ]
  },
  {
   "cell_type": "code",
   "execution_count": null,
   "metadata": {},
   "outputs": [],
   "source": []
  },
  {
   "cell_type": "code",
   "execution_count": 9,
   "metadata": {},
   "outputs": [
    {
     "name": "stdout",
     "output_type": "stream",
     "text": [
      "\n",
      "Before: Person(name='Bob', age=30)\n",
      "After: Person(name='Robert', age=30)\n",
      "Same?: False\n"
     ]
    }
   ],
   "source": [
    "Person = collections.namedtuple('Person', 'name age')\n",
    "\n",
    "bob = Person(name='Bob', age=30)\n",
    "print('\\nBefore:', bob)\n",
    "bob2 = bob._replace(name='Robert') # builds a new instance\n",
    "print('After:', bob2)\n",
    "print('Same?:', bob is bob2)"
   ]
  },
  {
   "cell_type": "code",
   "execution_count": null,
   "metadata": {},
   "outputs": [],
   "source": []
  }
 ],
 "metadata": {
  "kernelspec": {
   "display_name": "Python 3",
   "language": "python",
   "name": "python3"
  },
  "language_info": {
   "codemirror_mode": {
    "name": "ipython",
    "version": 3
   },
   "file_extension": ".py",
   "mimetype": "text/x-python",
   "name": "python",
   "nbconvert_exporter": "python",
   "pygments_lexer": "ipython3",
   "version": "3.6.9"
  }
 },
 "nbformat": 4,
 "nbformat_minor": 2
}
