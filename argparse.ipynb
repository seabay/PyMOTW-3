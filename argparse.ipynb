{
 "cells": [
  {
   "cell_type": "code",
   "execution_count": 1,
   "metadata": {},
   "outputs": [],
   "source": [
    "import argparse"
   ]
  },
  {
   "cell_type": "code",
   "execution_count": 4,
   "metadata": {},
   "outputs": [
    {
     "data": {
      "text/plain": [
       "ArgumentParser(prog='ipykernel_launcher.py', usage=None, description='This is a PyMOTW sample program', formatter_class=<class 'argparse.HelpFormatter'>, conflict_handler='error', add_help=True)"
      ]
     },
     "execution_count": 4,
     "metadata": {},
     "output_type": "execute_result"
    }
   ],
   "source": [
    "parser = argparse.ArgumentParser(\n",
    "    description='This is a PyMOTW sample program',\n",
    ")\n",
    "\n",
    "parser"
   ]
  },
  {
   "cell_type": "code",
   "execution_count": 9,
   "metadata": {},
   "outputs": [
    {
     "name": "stdout",
     "output_type": "stream",
     "text": [
      "Namespace(a=True, b='val', c=3)\n"
     ]
    }
   ],
   "source": [
    "parser = argparse.ArgumentParser(description='Short sample app')\n",
    "\n",
    "parser.add_argument('-a', action=\"store_true\", default=False)\n",
    "parser.add_argument('-b', action=\"store\", dest=\"b\")\n",
    "parser.add_argument('-c', action=\"store\", dest=\"c\", type=int)\n",
    "\n",
    "print(parser.parse_args(['-a', '-bval', '-c', '3']))\n"
   ]
  },
  {
   "cell_type": "code",
   "execution_count": 17,
   "metadata": {},
   "outputs": [
    {
     "name": "stdout",
     "output_type": "stream",
     "text": [
      "Namespace(noarg=True, witharg='val', witharg2=3)\n"
     ]
    },
    {
     "data": {
      "text/plain": [
       "ArgumentParser(prog='ipykernel_launcher.py', usage=None, description='Example with long option names', formatter_class=<class 'argparse.HelpFormatter'>, conflict_handler='error', add_help=True)"
      ]
     },
     "execution_count": 17,
     "metadata": {},
     "output_type": "execute_result"
    }
   ],
   "source": [
    "import argparse\n",
    "\n",
    "parser = argparse.ArgumentParser(\n",
    "    description='Example with long option names',\n",
    ")\n",
    "\n",
    "parser.add_argument('-noarg', action=\"store_true\",\n",
    "                    default=False)\n",
    "parser.add_argument('--witharg', action=\"store\",\n",
    "                    dest=\"witharg\")\n",
    "parser.add_argument('---witharg2', action=\"store\",\n",
    "                    dest=\"witharg2\", type=int)\n",
    "\n",
    "print(\n",
    "    parser.parse_args(\n",
    "        ['-noarg', '--witharg', 'val', '---witharg2=3']\n",
    "    )\n",
    ")\n",
    "\n",
    "parser\n",
    "#noarg=True, witharg=val, witharg2=3"
   ]
  },
  {
   "cell_type": "code",
   "execution_count": 18,
   "metadata": {},
   "outputs": [
    {
     "name": "stdout",
     "output_type": "stream",
     "text": [
      "usage: ipykernel_launcher.py [-h] [-noarg] [--witharg WITHARG]\n",
      "                             [---witharg2 WITHARG2]\n",
      "\n",
      "Example with long option names\n",
      "\n",
      "optional arguments:\n",
      "  -h, --help            show this help message and exit\n",
      "  -noarg\n",
      "  --witharg WITHARG\n",
      "  ---witharg2 WITHARG2\n"
     ]
    }
   ],
   "source": [
    "parser.print_help()"
   ]
  },
  {
   "cell_type": "code",
   "execution_count": 26,
   "metadata": {},
   "outputs": [
    {
     "name": "stdout",
     "output_type": "stream",
     "text": [
      "Namespace(count=2, units='ttt')\n"
     ]
    }
   ],
   "source": [
    "parser = argparse.ArgumentParser(\n",
    "    description='Example with nonoptional arguments',\n",
    ")\n",
    "\n",
    "parser.add_argument('count', action=\"store\", type=int)\n",
    "parser.add_argument('units', action=\"store\")\n",
    "##print(parser.parse_args())\n",
    "print(parser.parse_args([\"2\", \"ttt\"]))\n"
   ]
  },
  {
   "cell_type": "code",
   "execution_count": 31,
   "metadata": {},
   "outputs": [
    {
     "name": "stdout",
     "output_type": "stream",
     "text": [
      "usage: ipykernel_launcher.py [-h] [-s SIMPLE_VALUE] [-c] [-t] [-f]\n",
      "                             [-a COLLECTION] [-A] [-B] [--version]\n",
      "\n",
      "optional arguments:\n",
      "  -h, --help       show this help message and exit\n",
      "  -s SIMPLE_VALUE  Store a simple value\n",
      "  -c               Store a constant value\n",
      "  -t               Set a switch to true\n",
      "  -f               Set a switch to false\n",
      "  -a COLLECTION    Add repeated values to a list\n",
      "  -A               Add different values to list\n",
      "  -B               Add different values to list\n",
      "  --version        show program's version number and exit\n"
     ]
    }
   ],
   "source": [
    "parser = argparse.ArgumentParser()\n",
    "\n",
    "parser.add_argument('-s', action='store',\n",
    "                    dest='simple_value',\n",
    "                    help='Store a simple value')\n",
    "\n",
    "parser.add_argument('-c', action='store_const',\n",
    "                    dest='constant_value',\n",
    "                    const='value-to-store',\n",
    "                    help='Store a constant value')\n",
    "\n",
    "parser.add_argument('-t', action='store_true',\n",
    "                    default=False,\n",
    "                    dest='boolean_t',\n",
    "                    help='Set a switch to true')\n",
    "parser.add_argument('-f', action='store_false',\n",
    "                    default=True,\n",
    "                    dest='boolean_f',\n",
    "                    help='Set a switch to false')\n",
    "\n",
    "parser.add_argument('-a', action='append',\n",
    "                    dest='collection',\n",
    "                    default=[],\n",
    "                    help='Add repeated values to a list')\n",
    "\n",
    "parser.add_argument('-A', action='append_const',\n",
    "                    dest='const_collection',\n",
    "                    const='value-1-to-append',\n",
    "                    default=[],\n",
    "                    help='Add different values to list')\n",
    "parser.add_argument('-B', action='append_const',\n",
    "                    dest='const_collection',\n",
    "                    const='value-2-to-append',\n",
    "                    help='Add different values to list')\n",
    "\n",
    "parser.add_argument('--version', action='version',\n",
    "                    version='%(prog)s 1.0')\n",
    "\n",
    "parser.print_help()"
   ]
  },
  {
   "cell_type": "code",
   "execution_count": 30,
   "metadata": {},
   "outputs": [
    {
     "name": "stdout",
     "output_type": "stream",
     "text": [
      "simple_value     = 'vvv'\n",
      "constant_value   = None\n",
      "boolean_t        = False\n",
      "boolean_f        = True\n",
      "collection       = []\n",
      "const_collection = []\n"
     ]
    }
   ],
   "source": [
    "results = parser.parse_args([\"-s\", \"vvv\"])\n",
    "print('simple_value     = {!r}'.format(results.simple_value))\n",
    "print('constant_value   = {!r}'.format(results.constant_value))\n",
    "print('boolean_t        = {!r}'.format(results.boolean_t))\n",
    "print('boolean_f        = {!r}'.format(results.boolean_f))\n",
    "print('collection       = {!r}'.format(results.collection))\n",
    "print('const_collection = {!r}'.format(results.const_collection))"
   ]
  },
  {
   "cell_type": "code",
   "execution_count": 32,
   "metadata": {},
   "outputs": [
    {
     "name": "stdout",
     "output_type": "stream",
     "text": [
      "simple_value     = None\n",
      "constant_value   = None\n",
      "boolean_t        = False\n",
      "boolean_f        = True\n",
      "collection       = []\n",
      "const_collection = ['value-1-to-append']\n"
     ]
    }
   ],
   "source": [
    "results = parser.parse_args([\"-A\"])\n",
    "print('simple_value     = {!r}'.format(results.simple_value))\n",
    "print('constant_value   = {!r}'.format(results.constant_value))\n",
    "print('boolean_t        = {!r}'.format(results.boolean_t))\n",
    "print('boolean_f        = {!r}'.format(results.boolean_f))\n",
    "print('collection       = {!r}'.format(results.collection))\n",
    "print('const_collection = {!r}'.format(results.const_collection))"
   ]
  },
  {
   "cell_type": "code",
   "execution_count": 33,
   "metadata": {},
   "outputs": [
    {
     "name": "stdout",
     "output_type": "stream",
     "text": [
      "simple_value     = None\n",
      "constant_value   = None\n",
      "boolean_t        = False\n",
      "boolean_f        = True\n",
      "collection       = []\n",
      "const_collection = ['value-2-to-append']\n"
     ]
    }
   ],
   "source": [
    "results = parser.parse_args([\"-B\"])\n",
    "print('simple_value     = {!r}'.format(results.simple_value))\n",
    "print('constant_value   = {!r}'.format(results.constant_value))\n",
    "print('boolean_t        = {!r}'.format(results.boolean_t))\n",
    "print('boolean_f        = {!r}'.format(results.boolean_f))\n",
    "print('collection       = {!r}'.format(results.collection))\n",
    "print('const_collection = {!r}'.format(results.const_collection))"
   ]
  },
  {
   "cell_type": "code",
   "execution_count": 34,
   "metadata": {},
   "outputs": [
    {
     "name": "stdout",
     "output_type": "stream",
     "text": [
      "simple_value     = None\n",
      "constant_value   = None\n",
      "boolean_t        = False\n",
      "boolean_f        = True\n",
      "collection       = ['vvv']\n",
      "const_collection = []\n"
     ]
    }
   ],
   "source": [
    "results = parser.parse_args([\"-a\", \"vvv\"])\n",
    "print('simple_value     = {!r}'.format(results.simple_value))\n",
    "print('constant_value   = {!r}'.format(results.constant_value))\n",
    "print('boolean_t        = {!r}'.format(results.boolean_t))\n",
    "print('boolean_f        = {!r}'.format(results.boolean_f))\n",
    "print('collection       = {!r}'.format(results.collection))\n",
    "print('const_collection = {!r}'.format(results.const_collection))"
   ]
  },
  {
   "cell_type": "code",
   "execution_count": 35,
   "metadata": {},
   "outputs": [
    {
     "name": "stdout",
     "output_type": "stream",
     "text": [
      "simple_value     = None\n",
      "constant_value   = None\n",
      "boolean_t        = True\n",
      "boolean_f        = False\n",
      "collection       = []\n",
      "const_collection = []\n"
     ]
    }
   ],
   "source": [
    "results = parser.parse_args([\"-f\", \"-t\"])\n",
    "print('simple_value     = {!r}'.format(results.simple_value))\n",
    "print('constant_value   = {!r}'.format(results.constant_value))\n",
    "print('boolean_t        = {!r}'.format(results.boolean_t))\n",
    "print('boolean_f        = {!r}'.format(results.boolean_f))\n",
    "print('collection       = {!r}'.format(results.collection))\n",
    "print('const_collection = {!r}'.format(results.const_collection))"
   ]
  },
  {
   "cell_type": "code",
   "execution_count": null,
   "metadata": {},
   "outputs": [],
   "source": []
  },
  {
   "cell_type": "code",
   "execution_count": null,
   "metadata": {},
   "outputs": [],
   "source": []
  },
  {
   "cell_type": "code",
   "execution_count": 36,
   "metadata": {},
   "outputs": [],
   "source": [
    "from configparser import ConfigParser\n",
    "import shlex\n"
   ]
  },
  {
   "cell_type": "code",
   "execution_count": 38,
   "metadata": {},
   "outputs": [
    {
     "name": "stdout",
     "output_type": "stream",
     "text": [
      "Config  : -a -b 2\n",
      "Arg List: ['-a', '-b', '2']\n",
      "Results : Namespace(a=True, b='2', c=None)\n"
     ]
    }
   ],
   "source": [
    "parser = argparse.ArgumentParser(description='Short sample app')\n",
    "\n",
    "parser.add_argument('-a', action=\"store_true\", default=False)\n",
    "parser.add_argument('-b', action=\"store\", dest=\"b\")\n",
    "parser.add_argument('-c', action=\"store\", dest=\"c\", type=int)\n",
    "\n",
    "config = ConfigParser()\n",
    "config.read('argparse_with_shlex.ini')\n",
    "config_value = config.get('cli', 'options')\n",
    "print('Config  :', config_value)\n",
    "\n",
    "argument_list = shlex.split(config_value)\n",
    "print('Arg List:', argument_list)\n",
    "\n",
    "print('Results :', parser.parse_args(argument_list))"
   ]
  },
  {
   "cell_type": "code",
   "execution_count": null,
   "metadata": {},
   "outputs": [],
   "source": []
  }
 ],
 "metadata": {
  "kernelspec": {
   "display_name": "Python 3",
   "language": "python",
   "name": "python3"
  },
  "language_info": {
   "codemirror_mode": {
    "name": "ipython",
    "version": 3
   },
   "file_extension": ".py",
   "mimetype": "text/x-python",
   "name": "python",
   "nbconvert_exporter": "python",
   "pygments_lexer": "ipython3",
   "version": "3.6.9"
  }
 },
 "nbformat": 4,
 "nbformat_minor": 2
}
