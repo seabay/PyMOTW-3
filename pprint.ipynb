{
 "cells": [
  {
   "cell_type": "code",
   "execution_count": 1,
   "metadata": {},
   "outputs": [],
   "source": [
    "data = [\n",
    "    (1, {'a': 'A', 'b': 'B', 'c': 'C', 'd': 'D'}),\n",
    "    (2, {'e': 'E', 'f': 'F', 'g': 'G', 'h': 'H',\n",
    "         'i': 'I', 'j': 'J', 'k': 'K', 'l': 'L'}),\n",
    "    (3, ['m', 'n']),\n",
    "    (4, ['o', 'p', 'q']),\n",
    "    (5, ['r', 's', 't''u', 'v', 'x', 'y', 'z']),\n",
    "]"
   ]
  },
  {
   "cell_type": "code",
   "execution_count": 2,
   "metadata": {},
   "outputs": [
    {
     "name": "stdout",
     "output_type": "stream",
     "text": [
      "PRINT:\n",
      "[(1, {'a': 'A', 'b': 'B', 'c': 'C', 'd': 'D'}), (2, {'e': 'E', 'f': 'F', 'g': 'G', 'h': 'H', 'i': 'I', 'j': 'J', 'k': 'K', 'l': 'L'}), (3, ['m', 'n']), (4, ['o', 'p', 'q']), (5, ['r', 's', 'tu', 'v', 'x', 'y', 'z'])]\n",
      "\n",
      "PPRINT:\n",
      "[(1, {'a': 'A', 'b': 'B', 'c': 'C', 'd': 'D'}),\n",
      " (2,\n",
      "  {'e': 'E',\n",
      "   'f': 'F',\n",
      "   'g': 'G',\n",
      "   'h': 'H',\n",
      "   'i': 'I',\n",
      "   'j': 'J',\n",
      "   'k': 'K',\n",
      "   'l': 'L'}),\n",
      " (3, ['m', 'n']),\n",
      " (4, ['o', 'p', 'q']),\n",
      " (5, ['r', 's', 'tu', 'v', 'x', 'y', 'z'])]\n"
     ]
    }
   ],
   "source": [
    "from pprint import pprint\n",
    "\n",
    "\n",
    "print('PRINT:')\n",
    "print(data)\n",
    "print()\n",
    "print('PPRINT:')\n",
    "pprint(data)"
   ]
  },
  {
   "cell_type": "code",
   "execution_count": null,
   "metadata": {},
   "outputs": [],
   "source": []
  },
  {
   "cell_type": "code",
   "execution_count": 3,
   "metadata": {},
   "outputs": [
    {
     "name": "stderr",
     "output_type": "stream",
     "text": [
      "DEBUG    Logging pformatted data\n",
      "DEBUG    [(1, {'a': 'A', 'b': 'B', 'c': 'C', 'd': 'D'}),\n",
      "DEBUG     (2,\n",
      "DEBUG      {'e': 'E',\n",
      "DEBUG       'f': 'F',\n",
      "DEBUG       'g': 'G',\n",
      "DEBUG       'h': 'H',\n",
      "DEBUG       'i': 'I',\n",
      "DEBUG       'j': 'J',\n",
      "DEBUG       'k': 'K',\n",
      "DEBUG       'l': 'L'}),\n",
      "DEBUG     (3, ['m', 'n']),\n",
      "DEBUG     (4, ['o', 'p', 'q']),\n",
      "DEBUG     (5, ['r', 's', 'tu', 'v', 'x', 'y', 'z'])]\n"
     ]
    }
   ],
   "source": [
    "import logging\n",
    "from pprint import pformat\n",
    "\n",
    "logging.basicConfig(\n",
    "    level=logging.DEBUG,\n",
    "    format='%(levelname)-8s %(message)s',\n",
    ")\n",
    "\n",
    "logging.debug('Logging pformatted data')\n",
    "formatted = pformat(data)\n",
    "for line in formatted.splitlines():\n",
    "    logging.debug(line.rstrip())"
   ]
  },
  {
   "cell_type": "code",
   "execution_count": null,
   "metadata": {},
   "outputs": [],
   "source": []
  },
  {
   "cell_type": "code",
   "execution_count": 4,
   "metadata": {},
   "outputs": [
    {
     "name": "stdout",
     "output_type": "stream",
     "text": [
      "[node('node-1', []),\n",
      " node('node-2', [node('node-2-1', [])]),\n",
      " node('node-3', [node('node-3-1', [])])]\n"
     ]
    }
   ],
   "source": [
    "class node:\n",
    "\n",
    "    def __init__(self, name, contents=[]):\n",
    "        self.name = name\n",
    "        self.contents = contents[:]\n",
    "\n",
    "    def __repr__(self):\n",
    "        return (\n",
    "            'node(' + repr(self.name) + ', ' +\n",
    "            repr(self.contents) + ')'\n",
    "        )\n",
    "\n",
    "\n",
    "trees = [\n",
    "    node('node-1'),\n",
    "    node('node-2', [node('node-2-1')]),\n",
    "    node('node-3', [node('node-3-1')]),\n",
    "]\n",
    "pprint(trees)"
   ]
  },
  {
   "cell_type": "code",
   "execution_count": 5,
   "metadata": {},
   "outputs": [
    {
     "name": "stdout",
     "output_type": "stream",
     "text": [
      "id(local_data) => 4377945032\n",
      "['a', 'b', 1, 2, <Recursion on list with id=4377945032>]\n"
     ]
    }
   ],
   "source": [
    "local_data = ['a', 'b', 1, 2]\n",
    "local_data.append(local_data)\n",
    "\n",
    "print('id(local_data) =>', id(local_data))\n",
    "pprint(local_data)"
   ]
  },
  {
   "cell_type": "code",
   "execution_count": 6,
   "metadata": {},
   "outputs": [
    {
     "name": "stdout",
     "output_type": "stream",
     "text": [
      "[(...), (...), (...), (...), (...)]\n",
      "[(1, {...}), (2, {...}), (3, [...]), (4, [...]), (5, [...])]\n"
     ]
    }
   ],
   "source": [
    "pprint(data, depth=1)\n",
    "pprint(data, depth=2)"
   ]
  },
  {
   "cell_type": "code",
   "execution_count": null,
   "metadata": {},
   "outputs": [],
   "source": []
  },
  {
   "cell_type": "code",
   "execution_count": 7,
   "metadata": {},
   "outputs": [
    {
     "name": "stdout",
     "output_type": "stream",
     "text": [
      "WIDTH = 80\n",
      "[(1, {'a': 'A', 'b': 'B', 'c': 'C', 'd': 'D'}),\n",
      " (2,\n",
      "  {'e': 'E',\n",
      "   'f': 'F',\n",
      "   'g': 'G',\n",
      "   'h': 'H',\n",
      "   'i': 'I',\n",
      "   'j': 'J',\n",
      "   'k': 'K',\n",
      "   'l': 'L'}),\n",
      " (3, ['m', 'n']),\n",
      " (4, ['o', 'p', 'q']),\n",
      " (5, ['r', 's', 'tu', 'v', 'x', 'y', 'z'])]\n",
      "\n",
      "WIDTH = 5\n",
      "[(1,\n",
      "  {'a': 'A',\n",
      "   'b': 'B',\n",
      "   'c': 'C',\n",
      "   'd': 'D'}),\n",
      " (2,\n",
      "  {'e': 'E',\n",
      "   'f': 'F',\n",
      "   'g': 'G',\n",
      "   'h': 'H',\n",
      "   'i': 'I',\n",
      "   'j': 'J',\n",
      "   'k': 'K',\n",
      "   'l': 'L'}),\n",
      " (3,\n",
      "  ['m',\n",
      "   'n']),\n",
      " (4,\n",
      "  ['o',\n",
      "   'p',\n",
      "   'q']),\n",
      " (5,\n",
      "  ['r',\n",
      "   's',\n",
      "   'tu',\n",
      "   'v',\n",
      "   'x',\n",
      "   'y',\n",
      "   'z'])]\n",
      "\n"
     ]
    }
   ],
   "source": [
    "for width in [80, 5]:\n",
    "    print('WIDTH =', width)\n",
    "    pprint(data, width=width)\n",
    "    print()"
   ]
  },
  {
   "cell_type": "code",
   "execution_count": null,
   "metadata": {},
   "outputs": [],
   "source": []
  },
  {
   "cell_type": "code",
   "execution_count": 8,
   "metadata": {},
   "outputs": [
    {
     "name": "stdout",
     "output_type": "stream",
     "text": [
      "DEFAULT:\n",
      "[(1, {'a': 'A', 'b': 'B', 'c': 'C', 'd': 'D'}),\n",
      " (2,\n",
      "  {'e': 'E',\n",
      "   'f': 'F',\n",
      "   'g': 'G',\n",
      "   'h': 'H',\n",
      "   'i': 'I',\n",
      "   'j': 'J',\n",
      "   'k': 'K',\n",
      "   'l': 'L'}),\n",
      " (3, ['m', 'n']),\n",
      " (4, ['o', 'p', 'q']),\n",
      " (5, ['r', 's', 'tu', 'v', 'x', 'y', 'z'])]\n",
      "\n",
      "COMPACT:\n",
      "[(1, {'a': 'A', 'b': 'B', 'c': 'C', 'd': 'D'}),\n",
      " (2,\n",
      "  {'e': 'E',\n",
      "   'f': 'F',\n",
      "   'g': 'G',\n",
      "   'h': 'H',\n",
      "   'i': 'I',\n",
      "   'j': 'J',\n",
      "   'k': 'K',\n",
      "   'l': 'L'}),\n",
      " (3, ['m', 'n']), (4, ['o', 'p', 'q']),\n",
      " (5, ['r', 's', 'tu', 'v', 'x', 'y', 'z'])]\n"
     ]
    }
   ],
   "source": [
    "print('DEFAULT:')\n",
    "pprint(data, compact=False)\n",
    "print('\\nCOMPACT:')\n",
    "pprint(data, compact=True)"
   ]
  },
  {
   "cell_type": "code",
   "execution_count": null,
   "metadata": {},
   "outputs": [],
   "source": []
  }
 ],
 "metadata": {
  "kernelspec": {
   "display_name": "Python 3",
   "language": "python",
   "name": "python3"
  },
  "language_info": {
   "codemirror_mode": {
    "name": "ipython",
    "version": 3
   },
   "file_extension": ".py",
   "mimetype": "text/x-python",
   "name": "python",
   "nbconvert_exporter": "python",
   "pygments_lexer": "ipython3",
   "version": "3.6.9"
  }
 },
 "nbformat": 4,
 "nbformat_minor": 2
}
