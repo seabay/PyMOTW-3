{
 "cells": [
  {
   "cell_type": "code",
   "execution_count": 1,
   "metadata": {},
   "outputs": [],
   "source": [
    "import string\n"
   ]
  },
  {
   "cell_type": "code",
   "execution_count": 2,
   "metadata": {},
   "outputs": [
    {
     "name": "stdout",
     "output_type": "stream",
     "text": [
      "The quick brown fox jumped over the lazy dog.\n",
      "The Quick Brown Fox Jumped Over The Lazy Dog.\n"
     ]
    }
   ],
   "source": [
    "s = 'The quick brown fox jumped over the lazy dog.'\n",
    "\n",
    "print(s)\n",
    "print(string.capwords(s))"
   ]
  },
  {
   "cell_type": "code",
   "execution_count": null,
   "metadata": {},
   "outputs": [],
   "source": []
  },
  {
   "cell_type": "code",
   "execution_count": 3,
   "metadata": {},
   "outputs": [],
   "source": [
    "sample_text = '''\n",
    "    The textwrap module can be used to format text for output in\n",
    "    situations where pretty-printing is desired.  It offers\n",
    "    programmatic functionality similar to the paragraph wrapping\n",
    "    or filling features found in many text editors.\n",
    "    '''"
   ]
  },
  {
   "cell_type": "code",
   "execution_count": 5,
   "metadata": {},
   "outputs": [
    {
     "name": "stdout",
     "output_type": "stream",
     "text": [
      "\n",
      "    The textwrap module can be used to format text for output in\n",
      "    situations where pretty-printing is desired.  It offers\n",
      "    programmatic functionality similar to the paragraph wrapping\n",
      "    or filling features found in many text editors.\n",
      "    \n"
     ]
    }
   ],
   "source": [
    "print(sample_text)"
   ]
  },
  {
   "cell_type": "code",
   "execution_count": 7,
   "metadata": {},
   "outputs": [],
   "source": [
    "import textwrap\n"
   ]
  },
  {
   "cell_type": "code",
   "execution_count": 8,
   "metadata": {},
   "outputs": [
    {
     "name": "stdout",
     "output_type": "stream",
     "text": [
      "     The textwrap module can be used to format\n",
      "text for output in     situations where pretty-\n",
      "printing is desired.  It offers     programmatic\n",
      "functionality similar to the paragraph wrapping\n",
      "or filling features found in many text editors.\n"
     ]
    }
   ],
   "source": [
    "print(textwrap.fill(sample_text, width=50))"
   ]
  },
  {
   "cell_type": "code",
   "execution_count": 9,
   "metadata": {},
   "outputs": [
    {
     "name": "stdout",
     "output_type": "stream",
     "text": [
      "Dedented:\n",
      "\n",
      "The textwrap module can be used to format text for output in\n",
      "situations where pretty-printing is desired.  It offers\n",
      "programmatic functionality similar to the paragraph wrapping\n",
      "or filling features found in many text editors.\n",
      "\n"
     ]
    }
   ],
   "source": [
    "dedented_text = textwrap.dedent(sample_text)\n",
    "print('Dedented:')\n",
    "print(dedented_text)"
   ]
  },
  {
   "cell_type": "code",
   "execution_count": 10,
   "metadata": {},
   "outputs": [
    {
     "name": "stdout",
     "output_type": "stream",
     "text": [
      "45 Columns:\n",
      "\n",
      "The textwrap module can be used to format\n",
      "text for output in situations where pretty-\n",
      "printing is desired.  It offers programmatic\n",
      "functionality similar to the paragraph\n",
      "wrapping or filling features found in many\n",
      "text editors.\n",
      "\n",
      "60 Columns:\n",
      "\n",
      "The textwrap module can be used to format text for output in\n",
      "situations where pretty-printing is desired.  It offers\n",
      "programmatic functionality similar to the paragraph wrapping\n",
      "or filling features found in many text editors.\n",
      "\n"
     ]
    }
   ],
   "source": [
    "dedented_text = textwrap.dedent(sample_text).strip()\n",
    "for width in [45, 60]:\n",
    "    print('{} Columns:\\n'.format(width))\n",
    "    print(textwrap.fill(dedented_text, width=width))\n",
    "    print()"
   ]
  },
  {
   "cell_type": "code",
   "execution_count": 11,
   "metadata": {},
   "outputs": [
    {
     "name": "stdout",
     "output_type": "stream",
     "text": [
      "Quoted block:\n",
      "\n",
      ">  The textwrap module can be used to format text\n",
      "> for output in situations where pretty-printing is\n",
      "> desired.  It offers programmatic functionality\n",
      "> similar to the paragraph wrapping or filling\n",
      "> features found in many text editors.\n",
      "\n",
      "> Second paragraph after a blank line.\n"
     ]
    }
   ],
   "source": [
    "dedented_text = textwrap.dedent(sample_text)\n",
    "wrapped = textwrap.fill(dedented_text, width=50)\n",
    "wrapped += '\\n\\nSecond paragraph after a blank line.'\n",
    "final = textwrap.indent(wrapped, '> ')\n",
    "\n",
    "print('Quoted block:\\n')\n",
    "print(final)"
   ]
  },
  {
   "cell_type": "code",
   "execution_count": 12,
   "metadata": {},
   "outputs": [
    {
     "name": "stdout",
     "output_type": "stream",
     "text": [
      "Indent ' The textwrap module can be used to format text\\n'?\n",
      "Indent 'for output in situations where pretty-printing is\\n'?\n",
      "Indent 'desired.  It offers programmatic functionality\\n'?\n",
      "Indent 'similar to the paragraph wrapping or filling\\n'?\n",
      "Indent 'features found in many text editors.'?\n",
      "\n",
      "Quoted block:\n",
      "\n",
      "EVEN  The textwrap module can be used to format text\n",
      "for output in situations where pretty-printing is\n",
      "EVEN desired.  It offers programmatic functionality\n",
      "EVEN similar to the paragraph wrapping or filling\n",
      "EVEN features found in many text editors.\n"
     ]
    }
   ],
   "source": [
    "def should_indent(line):\n",
    "    print('Indent {!r}?'.format(line))\n",
    "    return len(line.strip()) % 2 == 0\n",
    "\n",
    "\n",
    "dedented_text = textwrap.dedent(sample_text)\n",
    "wrapped = textwrap.fill(dedented_text, width=50)\n",
    "final = textwrap.indent(wrapped, 'EVEN ',\n",
    "                        predicate=should_indent)\n",
    "\n",
    "print('\\nQuoted block:\\n')\n",
    "print(final)"
   ]
  },
  {
   "cell_type": "code",
   "execution_count": null,
   "metadata": {},
   "outputs": [],
   "source": []
  },
  {
   "cell_type": "code",
   "execution_count": null,
   "metadata": {},
   "outputs": [],
   "source": []
  },
  {
   "cell_type": "code",
   "execution_count": 2,
   "metadata": {},
   "outputs": [],
   "source": [
    "import re"
   ]
  },
  {
   "cell_type": "code",
   "execution_count": 3,
   "metadata": {},
   "outputs": [
    {
     "name": "stdout",
     "output_type": "stream",
     "text": [
      "Found \"this\"\n",
      "in \"Does this text match this pattern?\"\n",
      "from 5 to 9 (\"this\")\n"
     ]
    }
   ],
   "source": [
    "pattern = 'this'\n",
    "text = 'Does this text match this pattern?'\n",
    "\n",
    "match = re.search(pattern, text)\n",
    "\n",
    "s = match.start()\n",
    "e = match.end()\n",
    "\n",
    "print('Found \"{}\"\\nin \"{}\"\\nfrom {} to {} (\"{}\")'.format(\n",
    "    match.re.pattern, match.string, s, e, text[s:e]))"
   ]
  },
  {
   "cell_type": "code",
   "execution_count": 4,
   "metadata": {},
   "outputs": [
    {
     "name": "stdout",
     "output_type": "stream",
     "text": [
      "Text: 'Does this text match the pattern?'\n",
      "\n",
      "Seeking \"this\" -> match!\n",
      "Seeking \"that\" -> no match\n"
     ]
    }
   ],
   "source": [
    "# Precompile the patterns\n",
    "regexes = [\n",
    "    re.compile(p)\n",
    "    for p in ['this', 'that']\n",
    "]\n",
    "text = 'Does this text match the pattern?'\n",
    "\n",
    "print('Text: {!r}\\n'.format(text))\n",
    "\n",
    "for regex in regexes:\n",
    "    print('Seeking \"{}\" ->'.format(regex.pattern),\n",
    "          end=' ')\n",
    "\n",
    "    if regex.search(text):\n",
    "        print('match!')\n",
    "    else:\n",
    "        print('no match')"
   ]
  },
  {
   "cell_type": "code",
   "execution_count": 18,
   "metadata": {},
   "outputs": [
    {
     "name": "stdout",
     "output_type": "stream",
     "text": [
      "<class '_sre.SRE_Pattern'>\n",
      "Found 'ab'\n",
      "Found 'ab'\n"
     ]
    }
   ],
   "source": [
    "text = 'abbaaabbbbaaaaa'\n",
    "\n",
    "pattern = 'ab'\n",
    "\n",
    "regex = re.compile(pattern)\n",
    "print(type(regex))\n",
    "for match in regex.findall(text):\n",
    "    print('Found {!r}'.format(match))"
   ]
  },
  {
   "cell_type": "code",
   "execution_count": 15,
   "metadata": {},
   "outputs": [
    {
     "name": "stdout",
     "output_type": "stream",
     "text": [
      "Found 'ab'\n",
      "Found 'ab'\n"
     ]
    }
   ],
   "source": [
    "text = 'abbaaabbbbaaaaa'\n",
    "\n",
    "pattern = 'ab'\n",
    "\n",
    "for match in re.findall(pattern, text):\n",
    "    print('Found {!r}'.format(match))"
   ]
  },
  {
   "cell_type": "code",
   "execution_count": 7,
   "metadata": {},
   "outputs": [
    {
     "name": "stdout",
     "output_type": "stream",
     "text": [
      "<_sre.SRE_Match object; span=(0, 2), match='ab'>\n",
      "Found 'ab' at 0:2\n",
      "<_sre.SRE_Match object; span=(5, 7), match='ab'>\n",
      "Found 'ab' at 5:7\n"
     ]
    }
   ],
   "source": [
    "text = 'abbaaabbbbaaaaa'\n",
    "\n",
    "pattern = 'ab'\n",
    "\n",
    "for match in re.finditer(pattern, text):\n",
    "    print(match)\n",
    "    s = match.start()\n",
    "    e = match.end()\n",
    "    print('Found {!r} at {:d}:{:d}'.format(\n",
    "        text[s:e], s, e))"
   ]
  },
  {
   "cell_type": "code",
   "execution_count": 8,
   "metadata": {},
   "outputs": [],
   "source": [
    "def test_patterns(text, patterns):\n",
    "    \"\"\"Given source text and a list of patterns, look for\n",
    "    matches for each pattern within the text and print\n",
    "    them to stdout.\n",
    "    \"\"\"\n",
    "    # Look for each pattern in the text and print the results\n",
    "    for pattern, desc in patterns:\n",
    "        print(\"'{}' ({})\\n\".format(pattern, desc))\n",
    "        print(\"  '{}'\".format(text))\n",
    "        for match in re.finditer(pattern, text):\n",
    "            s = match.start()\n",
    "            e = match.end()\n",
    "            substr = text[s:e]\n",
    "            n_backslashes = text[:s].count('\\\\')\n",
    "            prefix = '.' * (s + n_backslashes)\n",
    "            print(\"  {}'{}'\".format(prefix, substr))\n",
    "        print()\n",
    "    return\n"
   ]
  },
  {
   "cell_type": "code",
   "execution_count": 9,
   "metadata": {},
   "outputs": [
    {
     "name": "stdout",
     "output_type": "stream",
     "text": [
      "'ab' ('a' followed by 'b')\n",
      "\n",
      "  'abbaaabbbbaaaaa'\n",
      "  'ab'\n",
      "  .....'ab'\n",
      "\n"
     ]
    }
   ],
   "source": [
    "test_patterns('abbaaabbbbaaaaa',\n",
    "                  [('ab', \"'a' followed by 'b'\"),\n",
    "                   ])"
   ]
  },
  {
   "cell_type": "code",
   "execution_count": 10,
   "metadata": {},
   "outputs": [
    {
     "name": "stdout",
     "output_type": "stream",
     "text": [
      "'ab*' (a followed by zero or more b)\n",
      "\n",
      "  'abbaabbba'\n",
      "  'abb'\n",
      "  ...'a'\n",
      "  ....'abbb'\n",
      "  ........'a'\n",
      "\n",
      "'ab+' (a followed by one or more b)\n",
      "\n",
      "  'abbaabbba'\n",
      "  'abb'\n",
      "  ....'abbb'\n",
      "\n",
      "'ab?' (a followed by zero or one b)\n",
      "\n",
      "  'abbaabbba'\n",
      "  'ab'\n",
      "  ...'a'\n",
      "  ....'ab'\n",
      "  ........'a'\n",
      "\n",
      "'ab{3}' (a followed by three b)\n",
      "\n",
      "  'abbaabbba'\n",
      "  ....'abbb'\n",
      "\n",
      "'ab{2,3}' (a followed by two to three b)\n",
      "\n",
      "  'abbaabbba'\n",
      "  'abb'\n",
      "  ....'abbb'\n",
      "\n"
     ]
    }
   ],
   "source": [
    "test_patterns(\n",
    "    'abbaabbba',\n",
    "    [('ab*', 'a followed by zero or more b'),\n",
    "     ('ab+', 'a followed by one or more b'),\n",
    "     ('ab?', 'a followed by zero or one b'),\n",
    "     ('ab{3}', 'a followed by three b'),\n",
    "     ('ab{2,3}', 'a followed by two to three b')],\n",
    ")"
   ]
  },
  {
   "cell_type": "code",
   "execution_count": 11,
   "metadata": {},
   "outputs": [
    {
     "name": "stdout",
     "output_type": "stream",
     "text": [
      "'ab*?' (a followed by zero or more b)\n",
      "\n",
      "  'abbaabbba'\n",
      "  'a'\n",
      "  ...'a'\n",
      "  ....'a'\n",
      "  ........'a'\n",
      "\n",
      "'ab+?' (a followed by one or more b)\n",
      "\n",
      "  'abbaabbba'\n",
      "  'ab'\n",
      "  ....'ab'\n",
      "\n",
      "'ab??' (a followed by zero or one b)\n",
      "\n",
      "  'abbaabbba'\n",
      "  'a'\n",
      "  ...'a'\n",
      "  ....'a'\n",
      "  ........'a'\n",
      "\n",
      "'ab{3}?' (a followed by three b)\n",
      "\n",
      "  'abbaabbba'\n",
      "  ....'abbb'\n",
      "\n",
      "'ab{2,3}?' (a followed by two to three b)\n",
      "\n",
      "  'abbaabbba'\n",
      "  'abb'\n",
      "  ....'abb'\n",
      "\n"
     ]
    }
   ],
   "source": [
    "test_patterns(\n",
    "    'abbaabbba',\n",
    "    [('ab*?', 'a followed by zero or more b'),\n",
    "     ('ab+?', 'a followed by one or more b'),\n",
    "     ('ab??', 'a followed by zero or one b'),\n",
    "     ('ab{3}?', 'a followed by three b'),\n",
    "     ('ab{2,3}?', 'a followed by two to three b')],\n",
    ")"
   ]
  },
  {
   "cell_type": "code",
   "execution_count": 19,
   "metadata": {},
   "outputs": [
    {
     "name": "stdout",
     "output_type": "stream",
     "text": [
      "'[ab]' (either a or b)\n",
      "\n",
      "  'abbaabbba'\n",
      "  'a'\n",
      "  .'b'\n",
      "  ..'b'\n",
      "  ...'a'\n",
      "  ....'a'\n",
      "  .....'b'\n",
      "  ......'b'\n",
      "  .......'b'\n",
      "  ........'a'\n",
      "\n",
      "'a[ab]+' (a followed by 1 or more a or b)\n",
      "\n",
      "  'abbaabbba'\n",
      "  'abbaabbba'\n",
      "\n",
      "'a[ab]+?' (a followed by 1 or more a or b, not greedy)\n",
      "\n",
      "  'abbaabbba'\n",
      "  'ab'\n",
      "  ...'aa'\n",
      "\n"
     ]
    }
   ],
   "source": [
    "test_patterns(\n",
    "    'abbaabbba',\n",
    "    [('[ab]', 'either a or b'),\n",
    "     ('a[ab]+', 'a followed by 1 or more a or b'),\n",
    "     ('a[ab]+?', 'a followed by 1 or more a or b, not greedy')],\n",
    ")"
   ]
  },
  {
   "cell_type": "code",
   "execution_count": 20,
   "metadata": {},
   "outputs": [
    {
     "name": "stdout",
     "output_type": "stream",
     "text": [
      "'[^-. ]+' (sequences without -, ., or space)\n",
      "\n",
      "  'This is some text -- with punctuation.'\n",
      "  'This'\n",
      "  .....'is'\n",
      "  ........'some'\n",
      "  .............'text'\n",
      "  .....................'with'\n",
      "  ..........................'punctuation'\n",
      "\n"
     ]
    }
   ],
   "source": [
    "test_patterns(\n",
    "    'This is some text -- with punctuation.',\n",
    "    [('[^-. ]+', 'sequences without -, ., or space')],\n",
    ")"
   ]
  },
  {
   "cell_type": "code",
   "execution_count": 21,
   "metadata": {},
   "outputs": [
    {
     "name": "stdout",
     "output_type": "stream",
     "text": [
      "'[a-z]+' (sequences of lowercase letters)\n",
      "\n",
      "  'This is some text -- with punctuation.'\n",
      "  .'his'\n",
      "  .....'is'\n",
      "  ........'some'\n",
      "  .............'text'\n",
      "  .....................'with'\n",
      "  ..........................'punctuation'\n",
      "\n",
      "'[A-Z]+' (sequences of uppercase letters)\n",
      "\n",
      "  'This is some text -- with punctuation.'\n",
      "  'T'\n",
      "\n",
      "'[a-zA-Z]+' (sequences of letters of either case)\n",
      "\n",
      "  'This is some text -- with punctuation.'\n",
      "  'This'\n",
      "  .....'is'\n",
      "  ........'some'\n",
      "  .............'text'\n",
      "  .....................'with'\n",
      "  ..........................'punctuation'\n",
      "\n",
      "'[A-Z][a-z]+' (one uppercase followed by lowercase)\n",
      "\n",
      "  'This is some text -- with punctuation.'\n",
      "  'This'\n",
      "\n"
     ]
    }
   ],
   "source": [
    "test_patterns(\n",
    "    'This is some text -- with punctuation.',\n",
    "    [('[a-z]+', 'sequences of lowercase letters'),\n",
    "     ('[A-Z]+', 'sequences of uppercase letters'),\n",
    "     ('[a-zA-Z]+', 'sequences of letters of either case'),\n",
    "     ('[A-Z][a-z]+', 'one uppercase followed by lowercase')],\n",
    ")"
   ]
  },
  {
   "cell_type": "code",
   "execution_count": 24,
   "metadata": {},
   "outputs": [
    {
     "name": "stdout",
     "output_type": "stream",
     "text": [
      "'a.' (a followed by any one character)\n",
      "\n",
      "  'abbaabbba'\n",
      "  'ab'\n",
      "  ...'aa'\n",
      "\n",
      "'b.' (b followed by any one character)\n",
      "\n",
      "  'abbaabbba'\n",
      "  .'bb'\n",
      "  .....'bb'\n",
      "  .......'ba'\n",
      "\n",
      "'a.*b' (a followed by anything, ending in b)\n",
      "\n",
      "  'abbaabbba'\n",
      "  'abbaabbb'\n",
      "\n",
      "'a.*?b' (a followed by anything, ending in b)\n",
      "\n",
      "  'abbaabbba'\n",
      "  'ab'\n",
      "  ...'aab'\n",
      "\n"
     ]
    }
   ],
   "source": [
    "test_patterns(\n",
    "    'abbaabbba',\n",
    "    [('a.', 'a followed by any one character'),\n",
    "     ('b.', 'b followed by any one character'),\n",
    "     ('a.*b', 'a followed by anything, ending in b'),\n",
    "     ('a.*?b', 'a followed by anything, ending in b')],\n",
    ")"
   ]
  },
  {
   "cell_type": "code",
   "execution_count": 25,
   "metadata": {},
   "outputs": [
    {
     "name": "stdout",
     "output_type": "stream",
     "text": [
      "'\\d+' (sequence of digits)\n",
      "\n",
      "  'A prime #1 example!'\n",
      "  .........'1'\n",
      "\n",
      "'\\D+' (sequence of non-digits)\n",
      "\n",
      "  'A prime #1 example!'\n",
      "  'A prime #'\n",
      "  ..........' example!'\n",
      "\n",
      "'\\s+' (sequence of whitespace)\n",
      "\n",
      "  'A prime #1 example!'\n",
      "  .' '\n",
      "  .......' '\n",
      "  ..........' '\n",
      "\n",
      "'\\S+' (sequence of non-whitespace)\n",
      "\n",
      "  'A prime #1 example!'\n",
      "  'A'\n",
      "  ..'prime'\n",
      "  ........'#1'\n",
      "  ...........'example!'\n",
      "\n",
      "'\\w+' (alphanumeric characters)\n",
      "\n",
      "  'A prime #1 example!'\n",
      "  'A'\n",
      "  ..'prime'\n",
      "  .........'1'\n",
      "  ...........'example'\n",
      "\n",
      "'\\W+' (non-alphanumeric)\n",
      "\n",
      "  'A prime #1 example!'\n",
      "  .' '\n",
      "  .......' #'\n",
      "  ..........' '\n",
      "  ..................'!'\n",
      "\n"
     ]
    }
   ],
   "source": [
    "test_patterns(\n",
    "    'A prime #1 example!',\n",
    "    [(r'\\d+', 'sequence of digits'),\n",
    "     (r'\\D+', 'sequence of non-digits'),\n",
    "     (r'\\s+', 'sequence of whitespace'),\n",
    "     (r'\\S+', 'sequence of non-whitespace'),\n",
    "     (r'\\w+', 'alphanumeric characters'),\n",
    "     (r'\\W+', 'non-alphanumeric')],\n",
    ")"
   ]
  },
  {
   "cell_type": "code",
   "execution_count": 26,
   "metadata": {},
   "outputs": [
    {
     "name": "stdout",
     "output_type": "stream",
     "text": [
      "'\\\\.\\+' (escape code)\n",
      "\n",
      "  '\\d+ \\D+ \\s+'\n",
      "  '\\d+'\n",
      "  .....'\\D+'\n",
      "  ..........'\\s+'\n",
      "\n"
     ]
    }
   ],
   "source": [
    "test_patterns(\n",
    "    r'\\d+ \\D+ \\s+',\n",
    "    [(r'\\\\.\\+', 'escape code')],\n",
    ")"
   ]
  },
  {
   "cell_type": "code",
   "execution_count": null,
   "metadata": {},
   "outputs": [],
   "source": [
    "Code\tMeaning\n",
    "^\tstart of string, or line\n",
    "$\tend of string, or line\n",
    "\\A\tstart of string\n",
    "\\Z\tend of string\n",
    "\\b\tat the beginning or end of a word\n",
    "\\B\tnot at the beginning or end of a word"
   ]
  },
  {
   "cell_type": "code",
   "execution_count": 32,
   "metadata": {},
   "outputs": [
    {
     "name": "stdout",
     "output_type": "stream",
     "text": [
      "'^\\w+' (word at start of string)\n",
      "\n",
      "  'This is some text-- with punctuation.'\n",
      "  'This'\n",
      "\n",
      "'\\A\\w+' (word at start of string)\n",
      "\n",
      "  'This is some text-- with punctuation.'\n",
      "  'This'\n",
      "\n",
      "'\\w+\\S*$' (word near end of string)\n",
      "\n",
      "  'This is some text-- with punctuation.'\n",
      "  .........................'punctuation.'\n",
      "\n",
      "'\\w+\\S*\\Z' (word near end of string)\n",
      "\n",
      "  'This is some text-- with punctuation.'\n",
      "  .........................'punctuation.'\n",
      "\n",
      "'\\w*t\\w*' (word containing t)\n",
      "\n",
      "  'This is some text-- with punctuation.'\n",
      "  .............'text'\n",
      "  ....................'with'\n",
      "  .........................'punctuation'\n",
      "\n",
      "'\\bt\\w+' (t at start of word)\n",
      "\n",
      "  'This is some text-- with punctuation.'\n",
      "  .............'text'\n",
      "\n",
      "'\\st\\w+' (t at start of word)\n",
      "\n",
      "  'This is some text-- with punctuation.'\n",
      "  ............' text'\n",
      "\n",
      "'\\w+t\\b' (t at end of word)\n",
      "\n",
      "  'This is some text-- with punctuation.'\n",
      "  .............'text'\n",
      "\n",
      "'\\Bt\\B' (t, not start or end of word)\n",
      "\n",
      "  'This is some text-- with punctuation.'\n",
      "  ......................'t'\n",
      "  .............................'t'\n",
      "  ................................'t'\n",
      "\n"
     ]
    }
   ],
   "source": [
    "test_patterns(\n",
    "    'This is some text-- with punctuation.',\n",
    "    [(r'^\\w+', 'word at start of string'),\n",
    "     (r'\\A\\w+', 'word at start of string'),\n",
    "     (r'\\w+\\S*$', 'word near end of string'),\n",
    "     (r'\\w+\\S*\\Z', 'word near end of string'),\n",
    "     (r'\\w*t\\w*', 'word containing t'),\n",
    "     (r'\\bt\\w+', 't at start of word'),\n",
    "     (r'\\st\\w+', 't at start of word'),\n",
    "     (r'\\w+t\\b', 't at end of word'),\n",
    "     (r'\\Bt\\B', 't, not start or end of word')],\n",
    ")"
   ]
  },
  {
   "cell_type": "code",
   "execution_count": 29,
   "metadata": {},
   "outputs": [
    {
     "name": "stdout",
     "output_type": "stream",
     "text": [
      "Text   : This is some text -- with punctuation.\n",
      "Pattern: is\n",
      "Match  : None\n",
      "Search : <_sre.SRE_Match object; span=(2, 4), match='is'>\n"
     ]
    }
   ],
   "source": [
    "text = 'This is some text -- with punctuation.'\n",
    "pattern = 'is'\n",
    "\n",
    "print('Text   :', text)\n",
    "print('Pattern:', pattern)\n",
    "\n",
    "m = re.match(pattern, text)\n",
    "print('Match  :', m)\n",
    "s = re.search(pattern, text)\n",
    "print('Search :', s)"
   ]
  },
  {
   "cell_type": "code",
   "execution_count": 30,
   "metadata": {},
   "outputs": [
    {
     "name": "stdout",
     "output_type": "stream",
     "text": [
      "Text       : This is some text -- with punctuation.\n",
      "Pattern    : is\n",
      "Search     : <_sre.SRE_Match object; span=(2, 4), match='is'>\n",
      "Full match : None\n"
     ]
    }
   ],
   "source": [
    "text = 'This is some text -- with punctuation.'\n",
    "pattern = 'is'\n",
    "\n",
    "print('Text       :', text)\n",
    "print('Pattern    :', pattern)\n",
    "\n",
    "m = re.search(pattern, text)\n",
    "print('Search     :', m)\n",
    "s = re.fullmatch(pattern, text)\n",
    "print('Full match :', s)"
   ]
  },
  {
   "cell_type": "code",
   "execution_count": 31,
   "metadata": {},
   "outputs": [
    {
     "name": "stdout",
     "output_type": "stream",
     "text": [
      "Text: This is some text -- with punctuation.\n",
      "\n",
      "   0 :  3 = \"This\"\n",
      "   5 :  6 = \"is\"\n"
     ]
    }
   ],
   "source": [
    "text = 'This is some text -- with punctuation.'\n",
    "pattern = re.compile(r'\\b\\w*is\\w*\\b')\n",
    "\n",
    "print('Text:', text)\n",
    "print()\n",
    "\n",
    "pos = 0\n",
    "while True:\n",
    "    match = pattern.search(text, pos)\n",
    "    if not match:\n",
    "        break\n",
    "    s = match.start()\n",
    "    e = match.end()\n",
    "    print('  {:>2d} : {:>2d} = \"{}\"'.format(\n",
    "        s, e - 1, text[s:e]))\n",
    "    # Move forward in text for the next search\n",
    "    pos = e"
   ]
  },
  {
   "cell_type": "code",
   "execution_count": 35,
   "metadata": {},
   "outputs": [
    {
     "name": "stdout",
     "output_type": "stream",
     "text": [
      "Text: This is some text -- with punctuation.\n",
      "\n",
      "   0 :  3 = \"This\"\n",
      "   5 :  6 = \"is\"\n"
     ]
    }
   ],
   "source": [
    "text = 'This is some text -- with punctuation.'\n",
    "pattern = re.compile(r'\\b\\w*is\\w*\\b')\n",
    "\n",
    "print('Text:', text)\n",
    "print()\n",
    "\n",
    "pos = 0\n",
    "for match in pattern.finditer(text, pos):\n",
    "    if not match:\n",
    "        break\n",
    "    s = match.start()\n",
    "    e = match.end()\n",
    "    print('  {:>2d} : {:>2d} = \"{}\"'.format(\n",
    "        s, e - 1, text[s:e]))\n",
    "    # Move forward in text for the next search\n",
    "    pos = e"
   ]
  },
  {
   "cell_type": "markdown",
   "metadata": {},
   "source": [
    "# Dissecting Matches with Groups"
   ]
  },
  {
   "cell_type": "code",
   "execution_count": 36,
   "metadata": {},
   "outputs": [
    {
     "name": "stdout",
     "output_type": "stream",
     "text": [
      "'a(ab)' (a followed by literal ab)\n",
      "\n",
      "  'abbaaabbbbaaaaa'\n",
      "  ....'aab'\n",
      "\n",
      "'a(a*b*)' (a followed by 0-n a and 0-n b)\n",
      "\n",
      "  'abbaaabbbbaaaaa'\n",
      "  'abb'\n",
      "  ...'aaabbbb'\n",
      "  ..........'aaaaa'\n",
      "\n",
      "'a(ab)*' (a followed by 0-n ab)\n",
      "\n",
      "  'abbaaabbbbaaaaa'\n",
      "  'a'\n",
      "  ...'a'\n",
      "  ....'aab'\n",
      "  ..........'a'\n",
      "  ...........'a'\n",
      "  ............'a'\n",
      "  .............'a'\n",
      "  ..............'a'\n",
      "\n",
      "'a(ab)+' (a followed by 1-n ab)\n",
      "\n",
      "  'abbaaabbbbaaaaa'\n",
      "  ....'aab'\n",
      "\n"
     ]
    }
   ],
   "source": [
    "test_patterns(\n",
    "    'abbaaabbbbaaaaa',\n",
    "    [('a(ab)', 'a followed by literal ab'),\n",
    "     ('a(a*b*)', 'a followed by 0-n a and 0-n b'),\n",
    "     ('a(ab)*', 'a followed by 0-n ab'),\n",
    "     ('a(ab)+', 'a followed by 1-n ab')],\n",
    ")"
   ]
  },
  {
   "cell_type": "code",
   "execution_count": 37,
   "metadata": {},
   "outputs": [
    {
     "name": "stdout",
     "output_type": "stream",
     "text": [
      "This is some text -- with punctuation.\n",
      "\n",
      "'^(\\w+)' (word at start of string)\n",
      "\n",
      "   ('This',)\n",
      "\n",
      "'(\\w+)\\S*$' (word at end, with optional punctuation)\n",
      "\n",
      "   ('punctuation',)\n",
      "\n",
      "'(\\bt\\w+)\\W+(\\w+)' (word starting with t, another word)\n",
      "\n",
      "   ('text', 'with')\n",
      "\n",
      "'(\\w+t)\\b' (word ending with t)\n",
      "\n",
      "   ('text',)\n",
      "\n"
     ]
    }
   ],
   "source": [
    "text = 'This is some text -- with punctuation.'\n",
    "\n",
    "print(text)\n",
    "print()\n",
    "\n",
    "patterns = [\n",
    "    (r'^(\\w+)', 'word at start of string'),\n",
    "    (r'(\\w+)\\S*$', 'word at end, with optional punctuation'),\n",
    "    (r'(\\bt\\w+)\\W+(\\w+)', 'word starting with t, another word'),\n",
    "    (r'(\\w+t)\\b', 'word ending with t'),\n",
    "]\n",
    "\n",
    "for pattern, desc in patterns:\n",
    "    regex = re.compile(pattern)\n",
    "    match = regex.search(text)\n",
    "    print(\"'{}' ({})\\n\".format(pattern, desc))\n",
    "    print('  ', match.groups())\n",
    "    print()"
   ]
  },
  {
   "cell_type": "code",
   "execution_count": 41,
   "metadata": {},
   "outputs": [
    {
     "name": "stdout",
     "output_type": "stream",
     "text": [
      "Input text            : This is some text -- with punctuation.\n",
      "Pattern               : (\\bt\\w+)(\\W+)(\\w+)\n",
      "Entire match          : text -- with\n",
      "Word starting with \"t\": text\n",
      "Non word              :  -- \n",
      "Word after \"t\" word   : with\n"
     ]
    }
   ],
   "source": [
    "text = 'This is some text -- with punctuation.'\n",
    "\n",
    "print('Input text            :', text)\n",
    "\n",
    "# word starting with 't' then another word\n",
    "regex = re.compile(r'(\\bt\\w+)(\\W+)(\\w+)')\n",
    "print('Pattern               :', regex.pattern)\n",
    "\n",
    "match = regex.search(text)\n",
    "print('Entire match          :', match.group(0))\n",
    "print('Word starting with \"t\":', match.group(1))\n",
    "print('Non word              :', match.group(2))\n",
    "print('Word after \"t\" word   :', match.group(3))"
   ]
  },
  {
   "cell_type": "code",
   "execution_count": 43,
   "metadata": {},
   "outputs": [
    {
     "name": "stdout",
     "output_type": "stream",
     "text": [
      "This is some text -- with punctuation.\n",
      "\n",
      "'^(?P<first_word>\\w+)'\n",
      "   ('This',)\n",
      "   {'first_word': 'This'}\n",
      "\n",
      "'(?P<last_word>\\w+)\\S*$'\n",
      "   ('punctuation',)\n",
      "   {'last_word': 'punctuation'}\n",
      "\n",
      "'(?P<t_word>\\bt\\w+)\\W+(?P<other_word>\\w+)'\n",
      "   ('text', 'with')\n",
      "   {'t_word': 'text', 'other_word': 'with'}\n",
      "\n",
      "'(?P<ends_with_t>\\w+t)\\b'\n",
      "   ('text',)\n",
      "   {'ends_with_t': 'text'}\n",
      "\n"
     ]
    }
   ],
   "source": [
    "text = 'This is some text -- with punctuation.'\n",
    "\n",
    "print(text)\n",
    "print()\n",
    "\n",
    "patterns = [\n",
    "    r'^(?P<first_word>\\w+)',\n",
    "    r'(?P<last_word>\\w+)\\S*$',\n",
    "    r'(?P<t_word>\\bt\\w+)\\W+(?P<other_word>\\w+)',\n",
    "    r'(?P<ends_with_t>\\w+t)\\b',\n",
    "]\n",
    "\n",
    "for pattern in patterns:\n",
    "    regex = re.compile(pattern)\n",
    "    match = regex.search(text)\n",
    "    print(\"'{}'\".format(pattern))\n",
    "    print('  ', match.groups())\n",
    "    print('  ', match.groupdict())\n",
    "    print()"
   ]
  },
  {
   "cell_type": "code",
   "execution_count": 44,
   "metadata": {},
   "outputs": [],
   "source": [
    "def test_patterns(text, patterns):\n",
    "    \"\"\"Given source text and a list of patterns, look for\n",
    "    matches for each pattern within the text and print\n",
    "    them to stdout.\n",
    "    \"\"\"\n",
    "    # Look for each pattern in the text and print the results\n",
    "    for pattern, desc in patterns:\n",
    "        print('{!r} ({})\\n'.format(pattern, desc))\n",
    "        print('  {!r}'.format(text))\n",
    "        for match in re.finditer(pattern, text):\n",
    "            s = match.start()\n",
    "            e = match.end()\n",
    "            prefix = ' ' * (s)\n",
    "            print(\n",
    "                '  {}{!r}{} '.format(prefix,\n",
    "                                     text[s:e],\n",
    "                                     ' ' * (len(text) - e)),\n",
    "                end=' ',\n",
    "            )\n",
    "            print(match.groups())\n",
    "            if match.groupdict():\n",
    "                print('{}{}'.format(\n",
    "                    ' ' * (len(text) - s),\n",
    "                    match.groupdict()),\n",
    "                )\n",
    "        print()\n",
    "    return"
   ]
  },
  {
   "cell_type": "code",
   "execution_count": 45,
   "metadata": {},
   "outputs": [
    {
     "name": "stdout",
     "output_type": "stream",
     "text": [
      "'a((a*)(b*))' (a followed by 0-n a and 0-n b)\n",
      "\n",
      "  'abbaabbba'\n",
      "  'abb'        ('bb', '', 'bb')\n",
      "     'aabbb'   ('abbb', 'a', 'bbb')\n",
      "          'a'  ('', '', '')\n",
      "\n"
     ]
    }
   ],
   "source": [
    "test_patterns(\n",
    "    'abbaabbba',\n",
    "    [(r'a((a*)(b*))', 'a followed by 0-n a and 0-n b')],\n",
    ")"
   ]
  },
  {
   "cell_type": "code",
   "execution_count": 46,
   "metadata": {},
   "outputs": [
    {
     "name": "stdout",
     "output_type": "stream",
     "text": [
      "'a((a+)|(b+))' (a then seq. of a or seq. of b)\n",
      "\n",
      "  'abbaabbba'\n",
      "  'abb'        ('bb', None, 'bb')\n",
      "     'aa'      ('a', 'a', None)\n",
      "\n",
      "'a((a|b)+)' (a then seq. of [ab])\n",
      "\n",
      "  'abbaabbba'\n",
      "  'abbaabbba'  ('bbaabbba', 'a')\n",
      "\n"
     ]
    }
   ],
   "source": [
    "test_patterns(\n",
    "    'abbaabbba',\n",
    "    [(r'a((a+)|(b+))', 'a then seq. of a or seq. of b'),\n",
    "     (r'a((a|b)+)', 'a then seq. of [ab]')],\n",
    ")"
   ]
  },
  {
   "cell_type": "code",
   "execution_count": 47,
   "metadata": {},
   "outputs": [
    {
     "name": "stdout",
     "output_type": "stream",
     "text": [
      "'a((a+)|(b+))' (capturing form)\n",
      "\n",
      "  'abbaabbba'\n",
      "  'abb'        ('bb', None, 'bb')\n",
      "     'aa'      ('a', 'a', None)\n",
      "\n",
      "'a((?:a+)|(?:b+))' (noncapturing)\n",
      "\n",
      "  'abbaabbba'\n",
      "  'abb'        ('bb',)\n",
      "     'aa'      ('a',)\n",
      "\n"
     ]
    }
   ],
   "source": [
    "test_patterns(\n",
    "    'abbaabbba',\n",
    "    [(r'a((a+)|(b+))', 'capturing form'),\n",
    "     (r'a((?:a+)|(?:b+))', 'noncapturing')],\n",
    ")"
   ]
  },
  {
   "cell_type": "code",
   "execution_count": 48,
   "metadata": {},
   "outputs": [
    {
     "name": "stdout",
     "output_type": "stream",
     "text": [
      "Text:\n",
      "  'This is some text -- with punctuation.'\n",
      "Pattern:\n",
      "  \\bT\\w+\n",
      "Case-sensitive:\n",
      "  'This'\n",
      "Case-insensitive:\n",
      "  'This'\n",
      "  'text'\n"
     ]
    }
   ],
   "source": [
    "text = 'This is some text -- with punctuation.'\n",
    "pattern = r'\\bT\\w+'\n",
    "with_case = re.compile(pattern)\n",
    "without_case = re.compile(pattern, re.IGNORECASE)\n",
    "\n",
    "print('Text:\\n  {!r}'.format(text))\n",
    "print('Pattern:\\n  {}'.format(pattern))\n",
    "print('Case-sensitive:')\n",
    "for match in with_case.findall(text):\n",
    "    print('  {!r}'.format(match))\n",
    "print('Case-insensitive:')\n",
    "for match in without_case.findall(text):\n",
    "    print('  {!r}'.format(match))"
   ]
  },
  {
   "cell_type": "code",
   "execution_count": 51,
   "metadata": {},
   "outputs": [
    {
     "name": "stdout",
     "output_type": "stream",
     "text": [
      "Text:\n",
      "  'This is some text -- with punctuation.\\nA second line.'\n",
      "Pattern:\n",
      "  (^\\w+)|(\\w+\\S*$)\n",
      "Single Line :\n",
      "  ('This', '')\n",
      "  ('', 'line.')\n",
      "Multline    :\n",
      "  ('This', '')\n",
      "  ('', 'punctuation.')\n",
      "  ('A', '')\n",
      "  ('', 'line.')\n",
      "dotall    :\n",
      "  ('This', '')\n",
      "  ('', 'line.')\n"
     ]
    }
   ],
   "source": [
    "text = 'This is some text -- with punctuation.\\nA second line.'\n",
    "pattern = r'(^\\w+)|(\\w+\\S*$)'\n",
    "single_line = re.compile(pattern)\n",
    "multiline = re.compile(pattern, re.MULTILINE)\n",
    "dotall = re.compile(pattern, re.DOTALL)\n",
    "\n",
    "print('Text:\\n  {!r}'.format(text))\n",
    "print('Pattern:\\n  {}'.format(pattern))\n",
    "print('Single Line :')\n",
    "for match in single_line.findall(text):\n",
    "    print('  {!r}'.format(match))\n",
    "print('Multline    :')\n",
    "for match in multiline.findall(text):\n",
    "    print('  {!r}'.format(match))\n",
    "print('dotall    :')\n",
    "for match in dotall.findall(text):\n",
    "    print('  {!r}'.format(match))"
   ]
  },
  {
   "cell_type": "code",
   "execution_count": 50,
   "metadata": {},
   "outputs": [
    {
     "name": "stdout",
     "output_type": "stream",
     "text": [
      "Text:\n",
      "  'This is some text -- with punctuation.\\nA second line.'\n",
      "Pattern:\n",
      "  .+\n",
      "No newlines :\n",
      "  'This is some text -- with punctuation.'\n",
      "  'A second line.'\n",
      "Dotall      :\n",
      "  'This is some text -- with punctuation.\\nA second line.'\n"
     ]
    }
   ],
   "source": [
    "text = 'This is some text -- with punctuation.\\nA second line.'\n",
    "pattern = r'.+'\n",
    "no_newlines = re.compile(pattern)\n",
    "dotall = re.compile(pattern, re.DOTALL)\n",
    "\n",
    "print('Text:\\n  {!r}'.format(text))\n",
    "print('Pattern:\\n  {}'.format(pattern))\n",
    "print('No newlines :')\n",
    "for match in no_newlines.findall(text):\n",
    "    print('  {!r}'.format(match))\n",
    "print('Dotall      :')\n",
    "for match in dotall.findall(text):\n",
    "    print('  {!r}'.format(match))"
   ]
  },
  {
   "cell_type": "code",
   "execution_count": 52,
   "metadata": {},
   "outputs": [
    {
     "name": "stdout",
     "output_type": "stream",
     "text": [
      "Text    : Français złoty Österreich\n",
      "Pattern : \\w+\n",
      "ASCII   : ['Fran', 'ais', 'z', 'oty', 'sterreich']\n",
      "Unicode : ['Français', 'złoty', 'Österreich']\n"
     ]
    }
   ],
   "source": [
    "text = u'Français złoty Österreich'\n",
    "pattern = r'\\w+'\n",
    "ascii_pattern = re.compile(pattern, re.ASCII)\n",
    "unicode_pattern = re.compile(pattern)\n",
    "\n",
    "print('Text    :', text)\n",
    "print('Pattern :', pattern)\n",
    "print('ASCII   :', list(ascii_pattern.findall(text)))\n",
    "print('Unicode :', list(unicode_pattern.findall(text)))"
   ]
  },
  {
   "cell_type": "code",
   "execution_count": 53,
   "metadata": {},
   "outputs": [
    {
     "name": "stdout",
     "output_type": "stream",
     "text": [
      "first.last@example.com          Matches\n",
      "first.last+category@gmail.com   Matches\n",
      "valid-address@mail.example.com  Matches\n",
      "not-valid@example.foo           No match\n"
     ]
    }
   ],
   "source": [
    "address = re.compile('[\\w\\d.+-]+@([\\w\\d.]+\\.)+(com|org|edu)')\n",
    "\n",
    "candidates = [\n",
    "    u'first.last@example.com',\n",
    "    u'first.last+category@gmail.com',\n",
    "    u'valid-address@mail.example.com',\n",
    "    u'not-valid@example.foo',\n",
    "]\n",
    "\n",
    "for candidate in candidates:\n",
    "    match = address.search(candidate)\n",
    "    print('{:<30}  {}'.format(\n",
    "        candidate, 'Matches' if match else 'No match')\n",
    "    )"
   ]
  },
  {
   "cell_type": "code",
   "execution_count": 54,
   "metadata": {},
   "outputs": [
    {
     "name": "stdout",
     "output_type": "stream",
     "text": [
      "first.last@example.com          Matches\n",
      "first.last+category@gmail.com   Matches\n",
      "valid-address@mail.example.com  Matches\n",
      "not-valid@example.foo           No match\n"
     ]
    }
   ],
   "source": [
    "address = re.compile(\n",
    "    '''\n",
    "    [\\w\\d.+-]+       # username\n",
    "    @\n",
    "    ([\\w\\d.]+\\.)+    # domain name prefix\n",
    "    (com|org|edu)    # TODO: support more top-level domains\n",
    "    ''',\n",
    "    re.VERBOSE)\n",
    "\n",
    "candidates = [\n",
    "    u'first.last@example.com',\n",
    "    u'first.last+category@gmail.com',\n",
    "    u'valid-address@mail.example.com',\n",
    "    u'not-valid@example.foo',\n",
    "]\n",
    "\n",
    "for candidate in candidates:\n",
    "    match = address.search(candidate)\n",
    "    print('{:<30}  {}'.format(\n",
    "        candidate, 'Matches' if match else 'No match'),\n",
    "    )"
   ]
  },
  {
   "cell_type": "code",
   "execution_count": 55,
   "metadata": {},
   "outputs": [
    {
     "name": "stdout",
     "output_type": "stream",
     "text": [
      "Candidate: first.last@example.com\n",
      "  Name : None\n",
      "  Email: first.last@example.com\n",
      "Candidate: first.last+category@gmail.com\n",
      "  Name : None\n",
      "  Email: first.last+category@gmail.com\n",
      "Candidate: valid-address@mail.example.com\n",
      "  Name : None\n",
      "  Email: valid-address@mail.example.com\n",
      "Candidate: not-valid@example.foo\n",
      "  No match\n",
      "Candidate: First Last <first.last@example.com>\n",
      "  Name : First Last\n",
      "  Email: first.last@example.com\n",
      "Candidate: No Brackets first.last@example.com\n",
      "  Name : None\n",
      "  Email: first.last@example.com\n",
      "Candidate: First Last\n",
      "  No match\n",
      "Candidate: First Middle Last <first.last@example.com>\n",
      "  Name : First Middle Last\n",
      "  Email: first.last@example.com\n",
      "Candidate: First M. Last <first.last@example.com>\n",
      "  Name : First M. Last\n",
      "  Email: first.last@example.com\n",
      "Candidate: <first.last@example.com>\n",
      "  Name : None\n",
      "  Email: first.last@example.com\n"
     ]
    }
   ],
   "source": [
    "address = re.compile(\n",
    "    '''\n",
    "\n",
    "    # A name is made up of letters, and may include \".\"\n",
    "    # for title abbreviations and middle initials.\n",
    "    ((?P<name>\n",
    "       ([\\w.,]+\\s+)*[\\w.,]+)\n",
    "       \\s*\n",
    "       # Email addresses are wrapped in angle\n",
    "       # brackets < >, but only if a name is\n",
    "       # found, so keep the start bracket in this\n",
    "       # group.\n",
    "       <\n",
    "    )? # the entire name is optional\n",
    "\n",
    "    # The address itself: username@domain.tld\n",
    "    (?P<email>\n",
    "      [\\w\\d.+-]+       # username\n",
    "      @\n",
    "      ([\\w\\d.]+\\.)+    # domain name prefix\n",
    "      (com|org|edu)    # limit the allowed top-level domains\n",
    "    )\n",
    "\n",
    "    >? # optional closing angle bracket\n",
    "    ''',\n",
    "    re.VERBOSE)\n",
    "\n",
    "candidates = [\n",
    "    u'first.last@example.com',\n",
    "    u'first.last+category@gmail.com',\n",
    "    u'valid-address@mail.example.com',\n",
    "    u'not-valid@example.foo',\n",
    "    u'First Last <first.last@example.com>',\n",
    "    u'No Brackets first.last@example.com',\n",
    "    u'First Last',\n",
    "    u'First Middle Last <first.last@example.com>',\n",
    "    u'First M. Last <first.last@example.com>',\n",
    "    u'<first.last@example.com>',\n",
    "]\n",
    "\n",
    "for candidate in candidates:\n",
    "    print('Candidate:', candidate)\n",
    "    match = address.search(candidate)\n",
    "    if match:\n",
    "        print('  Name :', match.groupdict()['name'])\n",
    "        print('  Email:', match.groupdict()['email'])\n",
    "    else:\n",
    "        print('  No match')"
   ]
  },
  {
   "cell_type": "code",
   "execution_count": 58,
   "metadata": {},
   "outputs": [
    {
     "name": "stdout",
     "output_type": "stream",
     "text": [
      "Candidate: First Last <first.last@example.com>\n",
      "  Name : First Last\n",
      "  Email: first.last@example.com\n",
      "Candidate: No Brackets first.last@example.com\n",
      "  Name : No Brackets\n",
      "  Email: first.last@example.com\n",
      "Candidate: Open Bracket <first.last@example.com\n",
      "  No match\n",
      "Candidate: Close Bracket first.last@example.com>\n",
      "  No match\n"
     ]
    }
   ],
   "source": [
    "address = re.compile(\n",
    "    '''\n",
    "    # A name is made up of letters, and may include \".\"\n",
    "    # for title abbreviations and middle initials.\n",
    "    ((?P<name>\n",
    "       ([\\w.,]+\\s+)*[\\w.,]+\n",
    "     )\n",
    "     \\s+\n",
    "    ) # name is no longer optional\n",
    "\n",
    "    # LOOKAHEAD\n",
    "    # Email addresses are wrapped in angle brackets, but only\n",
    "    # if both are present or neither is.\n",
    "    (?=(<.*>$)       # remainder wrapped in angle brackets\n",
    "        |\n",
    "        ([^<].*[^>]$) # remainder *not* wrapped in angle brackets\n",
    "      )\n",
    "\n",
    "    <? # optional opening angle bracket\n",
    "\n",
    "    # The address itself: username@domain.tld\n",
    "    (?P<email>\n",
    "      [\\w\\d.+-]+       # username\n",
    "      @\n",
    "      ([\\w\\d.]+\\.)+    # domain name prefix\n",
    "      (com|org|edu)    # limit the allowed top-level domains\n",
    "    )\n",
    "\n",
    "    >? # optional closing angle bracket\n",
    "    ''',\n",
    "    re.VERBOSE)\n",
    "\n",
    "candidates = [\n",
    "    u'First Last <first.last@example.com>',\n",
    "    u'No Brackets first.last@example.com',\n",
    "    u'Open Bracket <first.last@example.com',\n",
    "    u'Close Bracket first.last@example.com>',\n",
    "]\n",
    "\n",
    "for candidate in candidates:\n",
    "    print('Candidate:', candidate)\n",
    "    match = address.search(candidate)\n",
    "    if match:\n",
    "        print('  Name :', match.groupdict()['name'])\n",
    "        print('  Email:', match.groupdict()['email'])\n",
    "    else:\n",
    "        print('  No match')"
   ]
  },
  {
   "cell_type": "code",
   "execution_count": 57,
   "metadata": {},
   "outputs": [
    {
     "name": "stdout",
     "output_type": "stream",
     "text": [
      "Candidate: first.last@example.com\n",
      "  Match: first.last@example.com\n",
      "Candidate: noreply@example.com\n",
      "  No match\n"
     ]
    }
   ],
   "source": [
    "address = re.compile(\n",
    "    '''\n",
    "    ^\n",
    "\n",
    "    # An address: username@domain.tld\n",
    "\n",
    "    # Ignore noreply addresses\n",
    "    (?!noreply@.*$)\n",
    "\n",
    "    [\\w\\d.+-]+       # username\n",
    "    @\n",
    "    ([\\w\\d.]+\\.)+    # domain name prefix\n",
    "    (com|org|edu)    # limit the allowed top-level domains\n",
    "\n",
    "    $\n",
    "    ''',\n",
    "    re.VERBOSE)\n",
    "\n",
    "candidates = [\n",
    "    u'first.last@example.com',\n",
    "    u'noreply@example.com',\n",
    "]\n",
    "\n",
    "for candidate in candidates:\n",
    "    print('Candidate:', candidate)\n",
    "    match = address.search(candidate)\n",
    "    if match:\n",
    "        print('  Match:', candidate[match.start():match.end()])\n",
    "    else:\n",
    "        print('  No match')"
   ]
  },
  {
   "cell_type": "code",
   "execution_count": 59,
   "metadata": {},
   "outputs": [
    {
     "name": "stdout",
     "output_type": "stream",
     "text": [
      "This text includes two Twitter handles.\n",
      "One for @ThePSF, and one for the author, @doughellmann.\n",
      "\n",
      "Handle: ThePSF\n",
      "Handle: doughellmann\n"
     ]
    }
   ],
   "source": [
    "twitter = re.compile(\n",
    "    '''\n",
    "    # A twitter handle: @username\n",
    "    (?<=@)\n",
    "    ([\\w\\d_]+)       # username\n",
    "    ''',\n",
    "    re.VERBOSE)\n",
    "\n",
    "text = '''This text includes two Twitter handles.\n",
    "One for @ThePSF, and one for the author, @doughellmann.\n",
    "'''\n",
    "\n",
    "print(text)\n",
    "for match in twitter.findall(text):\n",
    "    print('Handle:', match)"
   ]
  },
  {
   "cell_type": "code",
   "execution_count": 62,
   "metadata": {},
   "outputs": [
    {
     "name": "stdout",
     "output_type": "stream",
     "text": [
      "This text includes two Twitter handles.\n",
      "One for @ThePSF, and one for the author, @doughellmann.\n",
      "\n",
      "Handle: ThePSF\n",
      "Handle: doughellmann\n"
     ]
    }
   ],
   "source": [
    "twitter = re.compile(\n",
    "    '''\n",
    "    # A twitter handle: @username\n",
    "    @+\n",
    "    ([\\w\\d_]+)       # username\n",
    "    ''',\n",
    "    re.VERBOSE)\n",
    "\n",
    "text = '''This text includes two Twitter handles.\n",
    "One for @ThePSF, and one for the author, @doughellmann.\n",
    "'''\n",
    "\n",
    "print(text)\n",
    "for match in twitter.findall(text):\n",
    "    print('Handle:', match)"
   ]
  },
  {
   "cell_type": "code",
   "execution_count": null,
   "metadata": {},
   "outputs": [],
   "source": []
  },
  {
   "cell_type": "markdown",
   "metadata": {},
   "source": [
    "## Self-referencing Expressions"
   ]
  },
  {
   "cell_type": "code",
   "execution_count": 63,
   "metadata": {},
   "outputs": [
    {
     "name": "stdout",
     "output_type": "stream",
     "text": [
      "Candidate: First Last <first.last@example.com>\n",
      "  Match name : First Last\n",
      "  Match email: first.last@example.com\n",
      "Candidate: Different Name <first.last@example.com>\n",
      "  No match\n",
      "Candidate: First Middle Last <first.last@example.com>\n",
      "  Match name : First Last\n",
      "  Match email: first.last@example.com\n",
      "Candidate: First M. Last <first.last@example.com>\n",
      "  Match name : First Last\n",
      "  Match email: first.last@example.com\n"
     ]
    }
   ],
   "source": [
    "address = re.compile(\n",
    "    r'''\n",
    "\n",
    "    # The regular name\n",
    "    (\\w+)               # first name\n",
    "    \\s+\n",
    "    (([\\w.]+)\\s+)?      # optional middle name or initial\n",
    "    (\\w+)               # last name\n",
    "\n",
    "    \\s+\n",
    "\n",
    "    <\n",
    "\n",
    "    # The address: first_name.last_name@domain.tld\n",
    "    (?P<email>\n",
    "      \\1               # first name\n",
    "      \\.\n",
    "      \\4               # last name\n",
    "      @\n",
    "      ([\\w\\d.]+\\.)+    # domain name prefix\n",
    "      (com|org|edu)    # limit the allowed top-level domains\n",
    "    )\n",
    "\n",
    "    >\n",
    "    ''',\n",
    "    re.VERBOSE | re.IGNORECASE)\n",
    "\n",
    "candidates = [\n",
    "    u'First Last <first.last@example.com>',\n",
    "    u'Different Name <first.last@example.com>',\n",
    "    u'First Middle Last <first.last@example.com>',\n",
    "    u'First M. Last <first.last@example.com>',\n",
    "]\n",
    "\n",
    "for candidate in candidates:\n",
    "    print('Candidate:', candidate)\n",
    "    match = address.search(candidate)\n",
    "    if match:\n",
    "        print('  Match name :', match.group(1), match.group(4))\n",
    "        print('  Match email:', match.group(5))\n",
    "    else:\n",
    "        print('  No match')"
   ]
  },
  {
   "cell_type": "code",
   "execution_count": 64,
   "metadata": {},
   "outputs": [
    {
     "name": "stdout",
     "output_type": "stream",
     "text": [
      "Candidate: First Last <first.last@example.com>\n",
      "  Match name : First Last\n",
      "  Match email: first.last@example.com\n",
      "Candidate: No Brackets first.last@example.com\n",
      "  No match\n",
      "Candidate: Open Bracket <first.last@example.com\n",
      "  No match\n",
      "Candidate: Close Bracket first.last@example.com>\n",
      "  No match\n",
      "Candidate: no.brackets@example.com\n",
      "  Match name : None\n",
      "  Match email: no.brackets@example.com\n"
     ]
    }
   ],
   "source": [
    "address = re.compile(\n",
    "    '''\n",
    "    ^\n",
    "\n",
    "    # A name is made up of letters, and may include \".\"\n",
    "    # for title abbreviations and middle initials.\n",
    "    (?P<name>\n",
    "       ([\\w.]+\\s+)*[\\w.]+\n",
    "     )?\n",
    "    \\s*\n",
    "\n",
    "    # Email addresses are wrapped in angle brackets, but\n",
    "    # only if a name is found.\n",
    "    (?(name)\n",
    "      # remainder wrapped in angle brackets because\n",
    "      # there is a name\n",
    "      (?P<brackets>(?=(<.*>$)))\n",
    "      |\n",
    "      # remainder does not include angle brackets without name\n",
    "      (?=([^<].*[^>]$))\n",
    "     )\n",
    "\n",
    "    # Look for a bracket only if the look-ahead assertion\n",
    "    # found both of them.\n",
    "    (?(brackets)<|\\s*)\n",
    "\n",
    "    # The address itself: username@domain.tld\n",
    "    (?P<email>\n",
    "      [\\w\\d.+-]+       # username\n",
    "      @\n",
    "      ([\\w\\d.]+\\.)+    # domain name prefix\n",
    "      (com|org|edu)    # limit the allowed top-level domains\n",
    "     )\n",
    "\n",
    "    # Look for a bracket only if the look-ahead assertion\n",
    "    # found both of them.\n",
    "    (?(brackets)>|\\s*)\n",
    "\n",
    "    $\n",
    "    ''',\n",
    "    re.VERBOSE)\n",
    "\n",
    "candidates = [\n",
    "    u'First Last <first.last@example.com>',\n",
    "    u'No Brackets first.last@example.com',\n",
    "    u'Open Bracket <first.last@example.com',\n",
    "    u'Close Bracket first.last@example.com>',\n",
    "    u'no.brackets@example.com',\n",
    "]\n",
    "\n",
    "for candidate in candidates:\n",
    "    print('Candidate:', candidate)\n",
    "    match = address.search(candidate)\n",
    "    if match:\n",
    "        print('  Match name :', match.groupdict()['name'])\n",
    "        print('  Match email:', match.groupdict()['email'])\n",
    "    else:\n",
    "        print('  No match')"
   ]
  },
  {
   "cell_type": "code",
   "execution_count": null,
   "metadata": {},
   "outputs": [],
   "source": []
  },
  {
   "cell_type": "markdown",
   "metadata": {},
   "source": [
    "## Modifying Strings with Patterns"
   ]
  },
  {
   "cell_type": "code",
   "execution_count": 65,
   "metadata": {},
   "outputs": [
    {
     "name": "stdout",
     "output_type": "stream",
     "text": [
      "Text: Make this **bold**.  This **too**.\n",
      "Bold: Make this <b>bold</b>.  This <b>too</b>.\n"
     ]
    }
   ],
   "source": [
    "bold = re.compile(r'\\*{2}(.*?)\\*{2}')\n",
    "\n",
    "text = 'Make this **bold**.  This **too**.'\n",
    "\n",
    "print('Text:', text)\n",
    "print('Bold:', bold.sub(r'<b>\\1</b>', text))"
   ]
  },
  {
   "cell_type": "code",
   "execution_count": 66,
   "metadata": {},
   "outputs": [
    {
     "name": "stdout",
     "output_type": "stream",
     "text": [
      "Text: Make this **bold**.  This **too**.\n",
      "Bold: Make this <b>bold</b>.  This <b>too</b>.\n"
     ]
    }
   ],
   "source": [
    "bold = re.compile(r'\\*{2}(?P<bold_text>.*?)\\*{2}')\n",
    "\n",
    "text = 'Make this **bold**.  This **too**.'\n",
    "\n",
    "print('Text:', text)\n",
    "print('Bold:', bold.sub(r'<b>\\g<bold_text></b>', text))"
   ]
  },
  {
   "cell_type": "code",
   "execution_count": 67,
   "metadata": {},
   "outputs": [
    {
     "name": "stdout",
     "output_type": "stream",
     "text": [
      "Text: Make this **bold**.  This **too**.\n",
      "Bold: Make this <b>bold</b>.  This **too**.\n"
     ]
    }
   ],
   "source": [
    "bold = re.compile(r'\\*{2}(.*?)\\*{2}')\n",
    "\n",
    "text = 'Make this **bold**.  This **too**.'\n",
    "\n",
    "print('Text:', text)\n",
    "print('Bold:', bold.sub(r'<b>\\1</b>', text, count=1))"
   ]
  },
  {
   "cell_type": "code",
   "execution_count": null,
   "metadata": {},
   "outputs": [],
   "source": []
  },
  {
   "cell_type": "code",
   "execution_count": null,
   "metadata": {},
   "outputs": [],
   "source": []
  },
  {
   "cell_type": "markdown",
   "metadata": {},
   "source": [
    "## Splitting with Patterns"
   ]
  },
  {
   "cell_type": "code",
   "execution_count": 68,
   "metadata": {},
   "outputs": [
    {
     "name": "stdout",
     "output_type": "stream",
     "text": [
      "0 'Paragraph one\\non two lines.'\n",
      "\n",
      "1 'Paragraph two.'\n",
      "\n"
     ]
    }
   ],
   "source": [
    "text = '''Paragraph one\n",
    "on two lines.\n",
    "\n",
    "Paragraph two.\n",
    "\n",
    "\n",
    "Paragraph three.'''\n",
    "\n",
    "for num, para in enumerate(re.findall(r'(.+?)\\n{2,}',\n",
    "                                      text,\n",
    "                                      flags=re.DOTALL)\n",
    "                           ):\n",
    "    print(num, repr(para))\n",
    "    print()"
   ]
  },
  {
   "cell_type": "code",
   "execution_count": 69,
   "metadata": {},
   "outputs": [
    {
     "name": "stdout",
     "output_type": "stream",
     "text": [
      "With findall:\n",
      "0 ('Paragraph one\\non two lines.', '\\n\\n')\n",
      "\n",
      "1 ('Paragraph two.', '\\n\\n\\n')\n",
      "\n",
      "2 ('Paragraph three.', '')\n",
      "\n",
      "\n",
      "With split:\n",
      "0 'Paragraph one\\non two lines.'\n",
      "\n",
      "1 'Paragraph two.'\n",
      "\n",
      "2 'Paragraph three.'\n",
      "\n"
     ]
    }
   ],
   "source": [
    "text = '''Paragraph one\n",
    "on two lines.\n",
    "\n",
    "Paragraph two.\n",
    "\n",
    "\n",
    "Paragraph three.'''\n",
    "\n",
    "print('With findall:')\n",
    "for num, para in enumerate(re.findall(r'(.+?)(\\n{2,}|$)',\n",
    "                                      text,\n",
    "                                      flags=re.DOTALL)):\n",
    "    print(num, repr(para))\n",
    "    print()\n",
    "\n",
    "print()\n",
    "print('With split:')\n",
    "for num, para in enumerate(re.split(r'\\n{2,}', text)):\n",
    "    print(num, repr(para))\n",
    "    print()"
   ]
  },
  {
   "cell_type": "code",
   "execution_count": 70,
   "metadata": {},
   "outputs": [
    {
     "name": "stdout",
     "output_type": "stream",
     "text": [
      "With split:\n",
      "0 'Paragraph one\\non two lines.'\n",
      "\n",
      "1 '\\n\\n'\n",
      "\n",
      "2 'Paragraph two.'\n",
      "\n",
      "3 '\\n\\n\\n'\n",
      "\n",
      "4 'Paragraph three.'\n",
      "\n"
     ]
    }
   ],
   "source": [
    "\n",
    "text = '''Paragraph one\n",
    "on two lines.\n",
    "\n",
    "Paragraph two.\n",
    "\n",
    "\n",
    "Paragraph three.'''\n",
    "\n",
    "print('With split:')\n",
    "for num, para in enumerate(re.split(r'(\\n{2,})', text)):\n",
    "    print(num, repr(para))\n",
    "    print()"
   ]
  },
  {
   "cell_type": "code",
   "execution_count": null,
   "metadata": {},
   "outputs": [],
   "source": []
  }
 ],
 "metadata": {
  "kernelspec": {
   "display_name": "Python 3",
   "language": "python",
   "name": "python3"
  },
  "language_info": {
   "codemirror_mode": {
    "name": "ipython",
    "version": 3
   },
   "file_extension": ".py",
   "mimetype": "text/x-python",
   "name": "python",
   "nbconvert_exporter": "python",
   "pygments_lexer": "ipython3",
   "version": "3.6.9"
  }
 },
 "nbformat": 4,
 "nbformat_minor": 2
}
