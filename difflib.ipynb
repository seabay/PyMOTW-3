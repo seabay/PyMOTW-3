{
 "cells": [
  {
   "cell_type": "code",
   "execution_count": 2,
   "metadata": {},
   "outputs": [],
   "source": [
    "text1 = \"\"\"Lorem ipsum dolor sit amet, consectetuer adipiscing\n",
    "elit. Integer eu lacus accumsan arcu fermentum euismod. Donec\n",
    "pulvinar porttitor tellus. Aliquam venenatis. Donec facilisis\n",
    "pharetra tortor.  In nec mauris eget magna consequat\n",
    "convalis. Nam sed sem vitae odio pellentesque interdum. Sed\n",
    "consequat viverra nisl. Suspendisse arcu metus, blandit quis,\n",
    "rhoncus ac, pharetra eget, velit. Mauris urna. Morbi nonummy\n",
    "molestie orci. Praesent nisi elit, fringilla ac, suscipit non,\n",
    "tristique vel, mauris. Curabitur vel lorem id nisl porta\n",
    "adipiscing. Suspendisse eu lectus. In nunc. Duis vulputate\n",
    "tristique enim. Donec quis lectus a justo imperdiet tempus.\"\"\"\n",
    "\n",
    "text1_lines = text1.splitlines()\n",
    "\n"
   ]
  },
  {
   "cell_type": "code",
   "execution_count": 3,
   "metadata": {},
   "outputs": [],
   "source": [
    "text2 = \"\"\"Lorem ipsum dolor sit amet, consectetuer adipiscing\n",
    "elit. Integer eu lacus accumsan arcu fermentum euismod. Donec\n",
    "pulvinar, porttitor tellus. Aliquam venenatis. Donec facilisis\n",
    "pharetra tortor. In nec mauris eget magna consequat\n",
    "convalis. Nam cras vitae mi vitae odio pellentesque interdum. Sed\n",
    "consequat viverra nisl. Suspendisse arcu metus, blandit quis,\n",
    "rhoncus ac, pharetra eget, velit. Mauris urna. Morbi nonummy\n",
    "molestie orci. Praesent nisi elit, fringilla ac, suscipit non,\n",
    "tristique vel, mauris. Curabitur vel lorem id nisl porta\n",
    "adipiscing. Duis vulputate tristique enim. Donec quis lectus a\n",
    "justo imperdiet tempus.  Suspendisse eu lectus. In nunc.\"\"\"\n",
    "\n",
    "text2_lines = text2.splitlines()"
   ]
  },
  {
   "cell_type": "code",
   "execution_count": 5,
   "metadata": {},
   "outputs": [],
   "source": [
    "import difflib\n"
   ]
  },
  {
   "cell_type": "code",
   "execution_count": 6,
   "metadata": {},
   "outputs": [
    {
     "name": "stdout",
     "output_type": "stream",
     "text": [
      "  Lorem ipsum dolor sit amet, consectetuer adipiscing\n",
      "  elit. Integer eu lacus accumsan arcu fermentum euismod. Donec\n",
      "- pulvinar porttitor tellus. Aliquam venenatis. Donec facilisis\n",
      "+ pulvinar, porttitor tellus. Aliquam venenatis. Donec facilisis\n",
      "?         +\n",
      "\n",
      "- pharetra tortor.  In nec mauris eget magna consequat\n",
      "?                 -\n",
      "\n",
      "+ pharetra tortor. In nec mauris eget magna consequat\n",
      "- convalis. Nam sed sem vitae odio pellentesque interdum. Sed\n",
      "?                 - --\n",
      "\n",
      "+ convalis. Nam cras vitae mi vitae odio pellentesque interdum. Sed\n",
      "?               +++ +++++   +\n",
      "\n",
      "  consequat viverra nisl. Suspendisse arcu metus, blandit quis,\n",
      "  rhoncus ac, pharetra eget, velit. Mauris urna. Morbi nonummy\n",
      "  molestie orci. Praesent nisi elit, fringilla ac, suscipit non,\n",
      "  tristique vel, mauris. Curabitur vel lorem id nisl porta\n",
      "- adipiscing. Suspendisse eu lectus. In nunc. Duis vulputate\n",
      "- tristique enim. Donec quis lectus a justo imperdiet tempus.\n",
      "+ adipiscing. Duis vulputate tristique enim. Donec quis lectus a\n",
      "+ justo imperdiet tempus.  Suspendisse eu lectus. In nunc.\n"
     ]
    }
   ],
   "source": [
    "d = difflib.Differ()\n",
    "diff = d.compare(text1_lines, text2_lines)\n",
    "print('\\n'.join(diff))"
   ]
  },
  {
   "cell_type": "code",
   "execution_count": null,
   "metadata": {},
   "outputs": [],
   "source": []
  }
 ],
 "metadata": {
  "kernelspec": {
   "display_name": "Python 3",
   "language": "python",
   "name": "python3"
  },
  "language_info": {
   "codemirror_mode": {
    "name": "ipython",
    "version": 3
   },
   "file_extension": ".py",
   "mimetype": "text/x-python",
   "name": "python",
   "nbconvert_exporter": "python",
   "pygments_lexer": "ipython3",
   "version": "3.6.9"
  }
 },
 "nbformat": 4,
 "nbformat_minor": 2
}
