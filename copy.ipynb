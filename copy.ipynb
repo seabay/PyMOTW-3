{
 "cells": [
  {
   "cell_type": "code",
   "execution_count": 1,
   "metadata": {},
   "outputs": [],
   "source": [
    "import copy\n",
    "import functools\n",
    "\n",
    "\n",
    "@functools.total_ordering\n",
    "class MyClass:\n",
    "\n",
    "    def __init__(self, name):\n",
    "        self.name = name\n",
    "\n",
    "    def __eq__(self, other):\n",
    "        return self.name == other.name\n",
    "\n",
    "    def __gt__(self, other):\n",
    "        return self.name > other.name\n",
    "\n",
    "\n"
   ]
  },
  {
   "cell_type": "code",
   "execution_count": 2,
   "metadata": {},
   "outputs": [
    {
     "name": "stdout",
     "output_type": "stream",
     "text": [
      "             my_list: [<__main__.MyClass object at 0x108b25e10>]\n",
      "                 dup: [<__main__.MyClass object at 0x108b25e10>]\n",
      "      dup is my_list: False\n",
      "      dup == my_list: True\n",
      "dup[0] is my_list[0]: True\n",
      "dup[0] == my_list[0]: True\n"
     ]
    }
   ],
   "source": [
    "a = MyClass('a')\n",
    "my_list = [a]\n",
    "dup = copy.copy(my_list) # For a shallow copy, the MyClass instance is not duplicated\n",
    "\n",
    "\n",
    "print('             my_list:', my_list)\n",
    "print('                 dup:', dup)\n",
    "print('      dup is my_list:', (dup is my_list))\n",
    "print('      dup == my_list:', (dup == my_list))\n",
    "print('dup[0] is my_list[0]:', (dup[0] is my_list[0]))\n",
    "print('dup[0] == my_list[0]:', (dup[0] == my_list[0]))"
   ]
  },
  {
   "cell_type": "code",
   "execution_count": null,
   "metadata": {},
   "outputs": [],
   "source": []
  },
  {
   "cell_type": "code",
   "execution_count": 3,
   "metadata": {},
   "outputs": [
    {
     "name": "stdout",
     "output_type": "stream",
     "text": [
      "             my_list: [<__main__.MyClass object at 0x108b25ef0>]\n",
      "                 dup: [<__main__.MyClass object at 0x108b25f28>]\n",
      "      dup is my_list: False\n",
      "      dup == my_list: True\n",
      "dup[0] is my_list[0]: False\n",
      "dup[0] == my_list[0]: True\n"
     ]
    }
   ],
   "source": [
    "a = MyClass('a')\n",
    "my_list = [a]\n",
    "dup = copy.deepcopy(my_list) # To make a deep copy of a list, a new list is constructed\n",
    "\n",
    "print('             my_list:', my_list)\n",
    "print('                 dup:', dup)\n",
    "print('      dup is my_list:', (dup is my_list))\n",
    "print('      dup == my_list:', (dup == my_list))\n",
    "print('dup[0] is my_list[0]:', (dup[0] is my_list[0]))\n",
    "print('dup[0] == my_list[0]:', (dup[0] == my_list[0]))"
   ]
  },
  {
   "cell_type": "code",
   "execution_count": null,
   "metadata": {},
   "outputs": [],
   "source": []
  },
  {
   "cell_type": "code",
   "execution_count": 4,
   "metadata": {},
   "outputs": [
    {
     "name": "stdout",
     "output_type": "stream",
     "text": [
      "__copy__()\n",
      "__deepcopy__({})\n"
     ]
    }
   ],
   "source": [
    "import copy\n",
    "import functools\n",
    "\n",
    "\n",
    "@functools.total_ordering\n",
    "class MyClass:\n",
    "\n",
    "    def __init__(self, name):\n",
    "        self.name = name\n",
    "\n",
    "    def __eq__(self, other):\n",
    "        return self.name == other.name\n",
    "\n",
    "    def __gt__(self, other):\n",
    "        return self.name > other.name\n",
    "\n",
    "    def __copy__(self):\n",
    "        print('__copy__()')\n",
    "        return MyClass(self.name)\n",
    "\n",
    "    def __deepcopy__(self, memo):\n",
    "        print('__deepcopy__({})'.format(memo))\n",
    "        return MyClass(copy.deepcopy(self.name, memo))\n",
    "\n",
    "\n",
    "a = MyClass('a')\n",
    "\n",
    "sc = copy.copy(a)\n",
    "dc = copy.deepcopy(a)"
   ]
  },
  {
   "cell_type": "code",
   "execution_count": null,
   "metadata": {},
   "outputs": [],
   "source": []
  }
 ],
 "metadata": {
  "kernelspec": {
   "display_name": "Python 3",
   "language": "python",
   "name": "python3"
  },
  "language_info": {
   "codemirror_mode": {
    "name": "ipython",
    "version": 3
   },
   "file_extension": ".py",
   "mimetype": "text/x-python",
   "name": "python",
   "nbconvert_exporter": "python",
   "pygments_lexer": "ipython3",
   "version": "3.6.9"
  }
 },
 "nbformat": 4,
 "nbformat_minor": 2
}
