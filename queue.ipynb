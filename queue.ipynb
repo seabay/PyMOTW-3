{
 "cells": [
  {
   "cell_type": "code",
   "execution_count": 1,
   "metadata": {},
   "outputs": [],
   "source": [
    "import queue\n",
    "\n"
   ]
  },
  {
   "cell_type": "code",
   "execution_count": 2,
   "metadata": {},
   "outputs": [
    {
     "name": "stdout",
     "output_type": "stream",
     "text": [
      "0 1 2 3 4 \n"
     ]
    }
   ],
   "source": [
    "q = queue.Queue()\n",
    "\n",
    "for i in range(5):\n",
    "    q.put(i)\n",
    "\n",
    "while not q.empty():\n",
    "    print(q.get(), end=' ')\n",
    "print()"
   ]
  },
  {
   "cell_type": "code",
   "execution_count": 3,
   "metadata": {},
   "outputs": [
    {
     "name": "stdout",
     "output_type": "stream",
     "text": [
      "4 3 2 1 0 \n"
     ]
    }
   ],
   "source": [
    "q = queue.LifoQueue()\n",
    "\n",
    "for i in range(5):\n",
    "    q.put(i)\n",
    "\n",
    "while not q.empty():\n",
    "    print(q.get(), end=' ')\n",
    "print()"
   ]
  },
  {
   "cell_type": "code",
   "execution_count": null,
   "metadata": {},
   "outputs": [],
   "source": []
  },
  {
   "cell_type": "code",
   "execution_count": 4,
   "metadata": {},
   "outputs": [
    {
     "name": "stdout",
     "output_type": "stream",
     "text": [
      "New job: Mid-level job\n",
      "New job: Low-level job\n",
      "New job: Important job\n",
      "Processing job: Important job\n",
      "Processing job: Mid-level job\n",
      "Processing job: Low-level job\n"
     ]
    }
   ],
   "source": [
    "import functools\n",
    "import queue\n",
    "import threading\n",
    "\n",
    "\n",
    "@functools.total_ordering\n",
    "class Job:\n",
    "\n",
    "    def __init__(self, priority, description):\n",
    "        self.priority = priority\n",
    "        self.description = description\n",
    "        print('New job:', description)\n",
    "        return\n",
    "\n",
    "    def __eq__(self, other):\n",
    "        try:\n",
    "            return self.priority == other.priority\n",
    "        except AttributeError:\n",
    "            return NotImplemented\n",
    "\n",
    "    def __lt__(self, other):\n",
    "        try:\n",
    "            return self.priority < other.priority\n",
    "        except AttributeError:\n",
    "            return NotImplemented\n",
    "\n",
    "\n",
    "q = queue.PriorityQueue()\n",
    "\n",
    "q.put(Job(3, 'Mid-level job'))\n",
    "q.put(Job(10, 'Low-level job'))\n",
    "q.put(Job(1, 'Important job'))\n",
    "\n",
    "\n",
    "def process_job(q):\n",
    "    while True:\n",
    "        next_job = q.get()\n",
    "        print('Processing job:', next_job.description)\n",
    "        q.task_done()\n",
    "\n",
    "\n",
    "workers = [\n",
    "    threading.Thread(target=process_job, args=(q,)),\n",
    "    threading.Thread(target=process_job, args=(q,)),\n",
    "]\n",
    "for w in workers:\n",
    "    w.setDaemon(True)\n",
    "    w.start()\n",
    "\n",
    "q.join()"
   ]
  },
  {
   "cell_type": "code",
   "execution_count": null,
   "metadata": {},
   "outputs": [],
   "source": []
  },
  {
   "cell_type": "code",
   "execution_count": null,
   "metadata": {},
   "outputs": [],
   "source": []
  },
  {
   "cell_type": "code",
   "execution_count": 2,
   "metadata": {},
   "outputs": [],
   "source": [
    "from queue import Queue\n",
    "import threading\n",
    "import time\n",
    "import urllib\n",
    "from urllib.parse import urlparse\n",
    "\n",
    "import feedparser\n",
    "\n",
    "# Set up some global variables\n",
    "num_fetch_threads = 2\n",
    "enclosure_queue = Queue()\n",
    "\n",
    "# A real app wouldn't use hard-coded data...\n",
    "feed_urls = [\n",
    "    'http://talkpython.fm/episodes/rss',\n",
    "]\n",
    "\n",
    "\n",
    "def message(s):\n",
    "    print('{}: {}'.format(threading.current_thread().name, s))"
   ]
  },
  {
   "cell_type": "code",
   "execution_count": 3,
   "metadata": {},
   "outputs": [],
   "source": [
    "def download_enclosures(q):\n",
    "    \"\"\"This is the worker thread function.\n",
    "    It processes items in the queue one after\n",
    "    another.  These daemon threads go into an\n",
    "    infinite loop, and exit only when\n",
    "    the main thread ends.\n",
    "    \"\"\"\n",
    "    while True:\n",
    "        message('looking for the next enclosure')\n",
    "        url = q.get()\n",
    "        filename = url.rpartition('/')[-1]\n",
    "        message('downloading {}'.format(filename))\n",
    "        response = urllib.request.urlopen(url)\n",
    "        data = response.read()\n",
    "        # Save the downloaded file to the current directory\n",
    "        message('writing to {}'.format(filename))\n",
    "        with open(filename, 'wb') as outfile:\n",
    "            outfile.write(data)\n",
    "        q.task_done()"
   ]
  },
  {
   "cell_type": "code",
   "execution_count": 4,
   "metadata": {},
   "outputs": [
    {
     "name": "stdout",
     "output_type": "stream",
     "text": [
      "worker-0: looking for the next enclosure\n",
      "worker-1: looking for the next enclosure\n"
     ]
    }
   ],
   "source": [
    "for i in range(num_fetch_threads):\n",
    "    worker = threading.Thread(\n",
    "        target=download_enclosures,\n",
    "        args=(enclosure_queue,),\n",
    "        name='worker-{}'.format(i),\n",
    "    )\n",
    "    worker.setDaemon(True)\n",
    "    worker.start()"
   ]
  },
  {
   "cell_type": "code",
   "execution_count": 5,
   "metadata": {},
   "outputs": [
    {
     "name": "stdout",
     "output_type": "stream",
     "text": [
      "MainThread: queuing python-on-windows-is-ok-actually.mp3\n",
      "MainThread: queuing your-education-will-be-live-streamed.mp3\n",
      "MainThread: queuing opal-full-stack-health-care-apps.mp3\n",
      "MainThread: queuing a-guided-tour-of-the-cpython-source-code.mp3\n",
      "MainThread: queuing bayesian-foundations.mp3\n",
      "worker-0: downloading python-on-windows-is-ok-actually.mp3\n",
      "worker-1: downloading your-education-will-be-live-streamed.mp3\n"
     ]
    }
   ],
   "source": [
    "# Download the feed(s) and put the enclosure URLs into\n",
    "# the queue.\n",
    "for url in feed_urls:\n",
    "    response = feedparser.parse(url, agent='fetch_podcasts.py')\n",
    "    for entry in response['entries'][:5]:\n",
    "        for enclosure in entry.get('enclosures', []):\n",
    "            parsed_url = urlparse(enclosure['url'])\n",
    "            message('queuing {}'.format(\n",
    "                parsed_url.path.rpartition('/')[-1]))\n",
    "            enclosure_queue.put(enclosure['url'])"
   ]
  },
  {
   "cell_type": "code",
   "execution_count": 6,
   "metadata": {},
   "outputs": [
    {
     "name": "stdout",
     "output_type": "stream",
     "text": [
      "MainThread: *** main thread waiting\n",
      "worker-1: writing to your-education-will-be-live-streamed.mp3\n",
      "worker-1: looking for the next enclosure\n",
      "worker-1: downloading opal-full-stack-health-care-apps.mp3\n",
      "worker-0: writing to python-on-windows-is-ok-actually.mp3\n",
      "worker-0: looking for the next enclosure\n",
      "worker-0: downloading a-guided-tour-of-the-cpython-source-code.mp3\n",
      "worker-1: writing to opal-full-stack-health-care-apps.mp3\n",
      "worker-1: looking for the next enclosure\n",
      "worker-1: downloading bayesian-foundations.mp3\n",
      "worker-0: writing to a-guided-tour-of-the-cpython-source-code.mp3\n",
      "worker-0: looking for the next enclosure\n",
      "worker-1: writing to bayesian-foundations.mp3\n",
      "worker-1: looking for the next enclosureMainThread: *** done\n",
      "\n"
     ]
    }
   ],
   "source": [
    "# Now wait for the queue to be empty, indicating that we have\n",
    "# processed all of the downloads.\n",
    "message('*** main thread waiting')\n",
    "enclosure_queue.join()\n",
    "message('*** done')"
   ]
  },
  {
   "cell_type": "code",
   "execution_count": null,
   "metadata": {},
   "outputs": [],
   "source": []
  }
 ],
 "metadata": {
  "kernelspec": {
   "display_name": "Python 3",
   "language": "python",
   "name": "python3"
  },
  "language_info": {
   "codemirror_mode": {
    "name": "ipython",
    "version": 3
   },
   "file_extension": ".py",
   "mimetype": "text/x-python",
   "name": "python",
   "nbconvert_exporter": "python",
   "pygments_lexer": "ipython3",
   "version": "3.6.9"
  }
 },
 "nbformat": 4,
 "nbformat_minor": 2
}
