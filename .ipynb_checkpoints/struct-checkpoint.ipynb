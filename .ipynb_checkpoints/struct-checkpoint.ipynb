{
 "cells": [
  {
   "cell_type": "code",
   "execution_count": 1,
   "metadata": {},
   "outputs": [],
   "source": [
    "import struct\n",
    "import binascii\n",
    "\n"
   ]
  },
  {
   "cell_type": "code",
   "execution_count": 2,
   "metadata": {},
   "outputs": [
    {
     "name": "stdout",
     "output_type": "stream",
     "text": [
      "Original values: (1, b'ab', 2.7)\n",
      "Format string  : b'I 2s f'\n",
      "Uses           : 12 bytes\n",
      "Packed Value   : b'0100000061620000cdcc2c40'\n"
     ]
    }
   ],
   "source": [
    "values = (1, 'ab'.encode('utf-8'), 2.7)\n",
    "s = struct.Struct('I 2s f')\n",
    "packed_data = s.pack(*values)\n",
    "\n",
    "print('Original values:', values)\n",
    "print('Format string  :', s.format)\n",
    "print('Uses           :', s.size, 'bytes')\n",
    "print('Packed Value   :', binascii.hexlify(packed_data))"
   ]
  },
  {
   "cell_type": "code",
   "execution_count": 3,
   "metadata": {},
   "outputs": [
    {
     "name": "stdout",
     "output_type": "stream",
     "text": [
      "Unpacked Values: (1, b'ab', 2.700000047683716)\n"
     ]
    }
   ],
   "source": [
    "packed_data = binascii.unhexlify(b'0100000061620000cdcc2c40')\n",
    "\n",
    "s = struct.Struct('I 2s f')\n",
    "unpacked_data = s.unpack(packed_data)\n",
    "print('Unpacked Values:', unpacked_data)"
   ]
  },
  {
   "cell_type": "code",
   "execution_count": null,
   "metadata": {},
   "outputs": [],
   "source": []
  },
  {
   "cell_type": "code",
   "execution_count": 4,
   "metadata": {},
   "outputs": [
    {
     "name": "stdout",
     "output_type": "stream",
     "text": [
      "Original values: (1, b'ab', 2.7)\n",
      "\n",
      "Format string  : b'@ I 2s f' for native, native\n",
      "Uses           : 12 bytes\n",
      "Packed Value   : b'0100000061620000cdcc2c40'\n",
      "Unpacked Value : (1, b'ab', 2.700000047683716)\n",
      "\n",
      "Format string  : b'= I 2s f' for native, standard\n",
      "Uses           : 10 bytes\n",
      "Packed Value   : b'010000006162cdcc2c40'\n",
      "Unpacked Value : (1, b'ab', 2.700000047683716)\n",
      "\n",
      "Format string  : b'< I 2s f' for little-endian\n",
      "Uses           : 10 bytes\n",
      "Packed Value   : b'010000006162cdcc2c40'\n",
      "Unpacked Value : (1, b'ab', 2.700000047683716)\n",
      "\n",
      "Format string  : b'> I 2s f' for big-endian\n",
      "Uses           : 10 bytes\n",
      "Packed Value   : b'000000016162402ccccd'\n",
      "Unpacked Value : (1, b'ab', 2.700000047683716)\n",
      "\n",
      "Format string  : b'! I 2s f' for network\n",
      "Uses           : 10 bytes\n",
      "Packed Value   : b'000000016162402ccccd'\n",
      "Unpacked Value : (1, b'ab', 2.700000047683716)\n"
     ]
    }
   ],
   "source": [
    "values = (1, 'ab'.encode('utf-8'), 2.7)\n",
    "print('Original values:', values)\n",
    "\n",
    "endianness = [\n",
    "    ('@', 'native, native'),\n",
    "    ('=', 'native, standard'),\n",
    "    ('<', 'little-endian'),\n",
    "    ('>', 'big-endian'),\n",
    "    ('!', 'network'),\n",
    "]\n",
    "\n",
    "for code, name in endianness:\n",
    "    s = struct.Struct(code + ' I 2s f')\n",
    "    packed_data = s.pack(*values)\n",
    "    print()\n",
    "    print('Format string  :', s.format, 'for', name)\n",
    "    print('Uses           :', s.size, 'bytes')\n",
    "    print('Packed Value   :', binascii.hexlify(packed_data))\n",
    "    print('Unpacked Value :', s.unpack(packed_data))"
   ]
  },
  {
   "cell_type": "code",
   "execution_count": 11,
   "metadata": {},
   "outputs": [
    {
     "data": {
      "text/plain": [
       "97"
      ]
     },
     "execution_count": 11,
     "metadata": {},
     "output_type": "execute_result"
    }
   ],
   "source": [
    "ord(\"a\")"
   ]
  },
  {
   "cell_type": "code",
   "execution_count": 9,
   "metadata": {},
   "outputs": [
    {
     "data": {
      "text/plain": [
       "'0x61'"
      ]
     },
     "execution_count": 9,
     "metadata": {},
     "output_type": "execute_result"
    }
   ],
   "source": [
    "hex(ord(\"a\"))"
   ]
  },
  {
   "cell_type": "code",
   "execution_count": 10,
   "metadata": {},
   "outputs": [
    {
     "data": {
      "text/plain": [
       "'0x62'"
      ]
     },
     "execution_count": 10,
     "metadata": {},
     "output_type": "execute_result"
    }
   ],
   "source": [
    "hex(ord(\"b\"))"
   ]
  },
  {
   "cell_type": "code",
   "execution_count": null,
   "metadata": {},
   "outputs": [],
   "source": []
  },
  {
   "cell_type": "markdown",
   "metadata": {},
   "source": [
    "## buffers"
   ]
  },
  {
   "cell_type": "code",
   "execution_count": 12,
   "metadata": {},
   "outputs": [
    {
     "name": "stdout",
     "output_type": "stream",
     "text": [
      "Original: (1, b'ab', 2.7)\n",
      "\n",
      "ctypes string buffer\n",
      "Before  : b'000000000000000000000000'\n",
      "After   : b'0100000061620000cdcc2c40'\n",
      "Unpacked: (1, b'ab', 2.700000047683716)\n",
      "\n",
      "array\n",
      "Before  : b'000000000000000000000000'\n",
      "After   : b'0100000061620000cdcc2c40'\n",
      "Unpacked: (1, b'ab', 2.700000047683716)\n"
     ]
    }
   ],
   "source": [
    "import array\n",
    "import binascii\n",
    "import ctypes\n",
    "import struct\n",
    "\n",
    "s = struct.Struct('I 2s f')\n",
    "values = (1, 'ab'.encode('utf-8'), 2.7)\n",
    "print('Original:', values)\n",
    "\n",
    "print()\n",
    "print('ctypes string buffer')\n",
    "\n",
    "b = ctypes.create_string_buffer(s.size)\n",
    "print('Before  :', binascii.hexlify(b.raw))\n",
    "s.pack_into(b, 0, *values)\n",
    "print('After   :', binascii.hexlify(b.raw))\n",
    "print('Unpacked:', s.unpack_from(b, 0))\n",
    "\n",
    "print()\n",
    "print('array')\n",
    "\n",
    "a = array.array('b', b'\\0' * s.size)\n",
    "print('Before  :', binascii.hexlify(a))\n",
    "s.pack_into(a, 0, *values)\n",
    "print('After   :', binascii.hexlify(a))\n",
    "print('Unpacked:', s.unpack_from(a, 0))"
   ]
  },
  {
   "cell_type": "code",
   "execution_count": null,
   "metadata": {},
   "outputs": [],
   "source": []
  }
 ],
 "metadata": {
  "kernelspec": {
   "display_name": "Python 3",
   "language": "python",
   "name": "python3"
  },
  "language_info": {
   "codemirror_mode": {
    "name": "ipython",
    "version": 3
   },
   "file_extension": ".py",
   "mimetype": "text/x-python",
   "name": "python",
   "nbconvert_exporter": "python",
   "pygments_lexer": "ipython3",
   "version": "3.6.9"
  }
 },
 "nbformat": 4,
 "nbformat_minor": 2
}
