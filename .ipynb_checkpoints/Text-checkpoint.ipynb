{
 "cells": [
  {
   "cell_type": "code",
   "execution_count": 1,
   "metadata": {},
   "outputs": [],
   "source": [
    "import string\n"
   ]
  },
  {
   "cell_type": "code",
   "execution_count": 2,
   "metadata": {},
   "outputs": [
    {
     "name": "stdout",
     "output_type": "stream",
     "text": [
      "The quick brown fox jumped over the lazy dog.\n",
      "The Quick Brown Fox Jumped Over The Lazy Dog.\n"
     ]
    }
   ],
   "source": [
    "s = 'The quick brown fox jumped over the lazy dog.'\n",
    "\n",
    "print(s)\n",
    "print(string.capwords(s))"
   ]
  },
  {
   "cell_type": "code",
   "execution_count": null,
   "metadata": {},
   "outputs": [],
   "source": []
  },
  {
   "cell_type": "code",
   "execution_count": 3,
   "metadata": {},
   "outputs": [],
   "source": [
    "sample_text = '''\n",
    "    The textwrap module can be used to format text for output in\n",
    "    situations where pretty-printing is desired.  It offers\n",
    "    programmatic functionality similar to the paragraph wrapping\n",
    "    or filling features found in many text editors.\n",
    "    '''"
   ]
  },
  {
   "cell_type": "code",
   "execution_count": 5,
   "metadata": {},
   "outputs": [
    {
     "name": "stdout",
     "output_type": "stream",
     "text": [
      "\n",
      "    The textwrap module can be used to format text for output in\n",
      "    situations where pretty-printing is desired.  It offers\n",
      "    programmatic functionality similar to the paragraph wrapping\n",
      "    or filling features found in many text editors.\n",
      "    \n"
     ]
    }
   ],
   "source": [
    "print(sample_text)"
   ]
  },
  {
   "cell_type": "code",
   "execution_count": 7,
   "metadata": {},
   "outputs": [],
   "source": [
    "import textwrap\n"
   ]
  },
  {
   "cell_type": "code",
   "execution_count": 8,
   "metadata": {},
   "outputs": [
    {
     "name": "stdout",
     "output_type": "stream",
     "text": [
      "     The textwrap module can be used to format\n",
      "text for output in     situations where pretty-\n",
      "printing is desired.  It offers     programmatic\n",
      "functionality similar to the paragraph wrapping\n",
      "or filling features found in many text editors.\n"
     ]
    }
   ],
   "source": [
    "print(textwrap.fill(sample_text, width=50))"
   ]
  },
  {
   "cell_type": "code",
   "execution_count": 9,
   "metadata": {},
   "outputs": [
    {
     "name": "stdout",
     "output_type": "stream",
     "text": [
      "Dedented:\n",
      "\n",
      "The textwrap module can be used to format text for output in\n",
      "situations where pretty-printing is desired.  It offers\n",
      "programmatic functionality similar to the paragraph wrapping\n",
      "or filling features found in many text editors.\n",
      "\n"
     ]
    }
   ],
   "source": [
    "dedented_text = textwrap.dedent(sample_text)\n",
    "print('Dedented:')\n",
    "print(dedented_text)"
   ]
  },
  {
   "cell_type": "code",
   "execution_count": 10,
   "metadata": {},
   "outputs": [
    {
     "name": "stdout",
     "output_type": "stream",
     "text": [
      "45 Columns:\n",
      "\n",
      "The textwrap module can be used to format\n",
      "text for output in situations where pretty-\n",
      "printing is desired.  It offers programmatic\n",
      "functionality similar to the paragraph\n",
      "wrapping or filling features found in many\n",
      "text editors.\n",
      "\n",
      "60 Columns:\n",
      "\n",
      "The textwrap module can be used to format text for output in\n",
      "situations where pretty-printing is desired.  It offers\n",
      "programmatic functionality similar to the paragraph wrapping\n",
      "or filling features found in many text editors.\n",
      "\n"
     ]
    }
   ],
   "source": [
    "dedented_text = textwrap.dedent(sample_text).strip()\n",
    "for width in [45, 60]:\n",
    "    print('{} Columns:\\n'.format(width))\n",
    "    print(textwrap.fill(dedented_text, width=width))\n",
    "    print()"
   ]
  },
  {
   "cell_type": "code",
   "execution_count": 11,
   "metadata": {},
   "outputs": [
    {
     "name": "stdout",
     "output_type": "stream",
     "text": [
      "Quoted block:\n",
      "\n",
      ">  The textwrap module can be used to format text\n",
      "> for output in situations where pretty-printing is\n",
      "> desired.  It offers programmatic functionality\n",
      "> similar to the paragraph wrapping or filling\n",
      "> features found in many text editors.\n",
      "\n",
      "> Second paragraph after a blank line.\n"
     ]
    }
   ],
   "source": [
    "dedented_text = textwrap.dedent(sample_text)\n",
    "wrapped = textwrap.fill(dedented_text, width=50)\n",
    "wrapped += '\\n\\nSecond paragraph after a blank line.'\n",
    "final = textwrap.indent(wrapped, '> ')\n",
    "\n",
    "print('Quoted block:\\n')\n",
    "print(final)"
   ]
  },
  {
   "cell_type": "code",
   "execution_count": 12,
   "metadata": {},
   "outputs": [
    {
     "name": "stdout",
     "output_type": "stream",
     "text": [
      "Indent ' The textwrap module can be used to format text\\n'?\n",
      "Indent 'for output in situations where pretty-printing is\\n'?\n",
      "Indent 'desired.  It offers programmatic functionality\\n'?\n",
      "Indent 'similar to the paragraph wrapping or filling\\n'?\n",
      "Indent 'features found in many text editors.'?\n",
      "\n",
      "Quoted block:\n",
      "\n",
      "EVEN  The textwrap module can be used to format text\n",
      "for output in situations where pretty-printing is\n",
      "EVEN desired.  It offers programmatic functionality\n",
      "EVEN similar to the paragraph wrapping or filling\n",
      "EVEN features found in many text editors.\n"
     ]
    }
   ],
   "source": [
    "def should_indent(line):\n",
    "    print('Indent {!r}?'.format(line))\n",
    "    return len(line.strip()) % 2 == 0\n",
    "\n",
    "\n",
    "dedented_text = textwrap.dedent(sample_text)\n",
    "wrapped = textwrap.fill(dedented_text, width=50)\n",
    "final = textwrap.indent(wrapped, 'EVEN ',\n",
    "                        predicate=should_indent)\n",
    "\n",
    "print('\\nQuoted block:\\n')\n",
    "print(final)"
   ]
  },
  {
   "cell_type": "code",
   "execution_count": null,
   "metadata": {},
   "outputs": [],
   "source": []
  },
  {
   "cell_type": "code",
   "execution_count": null,
   "metadata": {},
   "outputs": [],
   "source": []
  },
  {
   "cell_type": "code",
   "execution_count": 2,
   "metadata": {},
   "outputs": [],
   "source": [
    "import re"
   ]
  },
  {
   "cell_type": "code",
   "execution_count": 3,
   "metadata": {},
   "outputs": [
    {
     "name": "stdout",
     "output_type": "stream",
     "text": [
      "Found \"this\"\n",
      "in \"Does this text match this pattern?\"\n",
      "from 5 to 9 (\"this\")\n"
     ]
    }
   ],
   "source": [
    "pattern = 'this'\n",
    "text = 'Does this text match this pattern?'\n",
    "\n",
    "match = re.search(pattern, text)\n",
    "\n",
    "s = match.start()\n",
    "e = match.end()\n",
    "\n",
    "print('Found \"{}\"\\nin \"{}\"\\nfrom {} to {} (\"{}\")'.format(\n",
    "    match.re.pattern, match.string, s, e, text[s:e]))"
   ]
  },
  {
   "cell_type": "code",
   "execution_count": 4,
   "metadata": {},
   "outputs": [
    {
     "name": "stdout",
     "output_type": "stream",
     "text": [
      "Text: 'Does this text match the pattern?'\n",
      "\n",
      "Seeking \"this\" -> match!\n",
      "Seeking \"that\" -> no match\n"
     ]
    }
   ],
   "source": [
    "# Precompile the patterns\n",
    "regexes = [\n",
    "    re.compile(p)\n",
    "    for p in ['this', 'that']\n",
    "]\n",
    "text = 'Does this text match the pattern?'\n",
    "\n",
    "print('Text: {!r}\\n'.format(text))\n",
    "\n",
    "for regex in regexes:\n",
    "    print('Seeking \"{}\" ->'.format(regex.pattern),\n",
    "          end=' ')\n",
    "\n",
    "    if regex.search(text):\n",
    "        print('match!')\n",
    "    else:\n",
    "        print('no match')"
   ]
  },
  {
   "cell_type": "code",
   "execution_count": 18,
   "metadata": {},
   "outputs": [
    {
     "name": "stdout",
     "output_type": "stream",
     "text": [
      "<class '_sre.SRE_Pattern'>\n",
      "Found 'ab'\n",
      "Found 'ab'\n"
     ]
    }
   ],
   "source": [
    "text = 'abbaaabbbbaaaaa'\n",
    "\n",
    "pattern = 'ab'\n",
    "\n",
    "regex = re.compile(pattern)\n",
    "print(type(regex))\n",
    "for match in regex.findall(text):\n",
    "    print('Found {!r}'.format(match))"
   ]
  },
  {
   "cell_type": "code",
   "execution_count": 15,
   "metadata": {},
   "outputs": [
    {
     "name": "stdout",
     "output_type": "stream",
     "text": [
      "Found 'ab'\n",
      "Found 'ab'\n"
     ]
    }
   ],
   "source": [
    "text = 'abbaaabbbbaaaaa'\n",
    "\n",
    "pattern = 'ab'\n",
    "\n",
    "for match in re.findall(pattern, text):\n",
    "    print('Found {!r}'.format(match))"
   ]
  },
  {
   "cell_type": "code",
   "execution_count": 7,
   "metadata": {},
   "outputs": [
    {
     "name": "stdout",
     "output_type": "stream",
     "text": [
      "<_sre.SRE_Match object; span=(0, 2), match='ab'>\n",
      "Found 'ab' at 0:2\n",
      "<_sre.SRE_Match object; span=(5, 7), match='ab'>\n",
      "Found 'ab' at 5:7\n"
     ]
    }
   ],
   "source": [
    "text = 'abbaaabbbbaaaaa'\n",
    "\n",
    "pattern = 'ab'\n",
    "\n",
    "for match in re.finditer(pattern, text):\n",
    "    print(match)\n",
    "    s = match.start()\n",
    "    e = match.end()\n",
    "    print('Found {!r} at {:d}:{:d}'.format(\n",
    "        text[s:e], s, e))"
   ]
  },
  {
   "cell_type": "code",
   "execution_count": 8,
   "metadata": {},
   "outputs": [],
   "source": [
    "def test_patterns(text, patterns):\n",
    "    \"\"\"Given source text and a list of patterns, look for\n",
    "    matches for each pattern within the text and print\n",
    "    them to stdout.\n",
    "    \"\"\"\n",
    "    # Look for each pattern in the text and print the results\n",
    "    for pattern, desc in patterns:\n",
    "        print(\"'{}' ({})\\n\".format(pattern, desc))\n",
    "        print(\"  '{}'\".format(text))\n",
    "        for match in re.finditer(pattern, text):\n",
    "            s = match.start()\n",
    "            e = match.end()\n",
    "            substr = text[s:e]\n",
    "            n_backslashes = text[:s].count('\\\\')\n",
    "            prefix = '.' * (s + n_backslashes)\n",
    "            print(\"  {}'{}'\".format(prefix, substr))\n",
    "        print()\n",
    "    return\n"
   ]
  },
  {
   "cell_type": "code",
   "execution_count": 9,
   "metadata": {},
   "outputs": [
    {
     "name": "stdout",
     "output_type": "stream",
     "text": [
      "'ab' ('a' followed by 'b')\n",
      "\n",
      "  'abbaaabbbbaaaaa'\n",
      "  'ab'\n",
      "  .....'ab'\n",
      "\n"
     ]
    }
   ],
   "source": [
    "test_patterns('abbaaabbbbaaaaa',\n",
    "                  [('ab', \"'a' followed by 'b'\"),\n",
    "                   ])"
   ]
  },
  {
   "cell_type": "code",
   "execution_count": 10,
   "metadata": {},
   "outputs": [
    {
     "name": "stdout",
     "output_type": "stream",
     "text": [
      "'ab*' (a followed by zero or more b)\n",
      "\n",
      "  'abbaabbba'\n",
      "  'abb'\n",
      "  ...'a'\n",
      "  ....'abbb'\n",
      "  ........'a'\n",
      "\n",
      "'ab+' (a followed by one or more b)\n",
      "\n",
      "  'abbaabbba'\n",
      "  'abb'\n",
      "  ....'abbb'\n",
      "\n",
      "'ab?' (a followed by zero or one b)\n",
      "\n",
      "  'abbaabbba'\n",
      "  'ab'\n",
      "  ...'a'\n",
      "  ....'ab'\n",
      "  ........'a'\n",
      "\n",
      "'ab{3}' (a followed by three b)\n",
      "\n",
      "  'abbaabbba'\n",
      "  ....'abbb'\n",
      "\n",
      "'ab{2,3}' (a followed by two to three b)\n",
      "\n",
      "  'abbaabbba'\n",
      "  'abb'\n",
      "  ....'abbb'\n",
      "\n"
     ]
    }
   ],
   "source": [
    "test_patterns(\n",
    "    'abbaabbba',\n",
    "    [('ab*', 'a followed by zero or more b'),\n",
    "     ('ab+', 'a followed by one or more b'),\n",
    "     ('ab?', 'a followed by zero or one b'),\n",
    "     ('ab{3}', 'a followed by three b'),\n",
    "     ('ab{2,3}', 'a followed by two to three b')],\n",
    ")"
   ]
  },
  {
   "cell_type": "code",
   "execution_count": 11,
   "metadata": {},
   "outputs": [
    {
     "name": "stdout",
     "output_type": "stream",
     "text": [
      "'ab*?' (a followed by zero or more b)\n",
      "\n",
      "  'abbaabbba'\n",
      "  'a'\n",
      "  ...'a'\n",
      "  ....'a'\n",
      "  ........'a'\n",
      "\n",
      "'ab+?' (a followed by one or more b)\n",
      "\n",
      "  'abbaabbba'\n",
      "  'ab'\n",
      "  ....'ab'\n",
      "\n",
      "'ab??' (a followed by zero or one b)\n",
      "\n",
      "  'abbaabbba'\n",
      "  'a'\n",
      "  ...'a'\n",
      "  ....'a'\n",
      "  ........'a'\n",
      "\n",
      "'ab{3}?' (a followed by three b)\n",
      "\n",
      "  'abbaabbba'\n",
      "  ....'abbb'\n",
      "\n",
      "'ab{2,3}?' (a followed by two to three b)\n",
      "\n",
      "  'abbaabbba'\n",
      "  'abb'\n",
      "  ....'abb'\n",
      "\n"
     ]
    }
   ],
   "source": [
    "test_patterns(\n",
    "    'abbaabbba',\n",
    "    [('ab*?', 'a followed by zero or more b'),\n",
    "     ('ab+?', 'a followed by one or more b'),\n",
    "     ('ab??', 'a followed by zero or one b'),\n",
    "     ('ab{3}?', 'a followed by three b'),\n",
    "     ('ab{2,3}?', 'a followed by two to three b')],\n",
    ")"
   ]
  },
  {
   "cell_type": "code",
   "execution_count": 19,
   "metadata": {},
   "outputs": [
    {
     "name": "stdout",
     "output_type": "stream",
     "text": [
      "'[ab]' (either a or b)\n",
      "\n",
      "  'abbaabbba'\n",
      "  'a'\n",
      "  .'b'\n",
      "  ..'b'\n",
      "  ...'a'\n",
      "  ....'a'\n",
      "  .....'b'\n",
      "  ......'b'\n",
      "  .......'b'\n",
      "  ........'a'\n",
      "\n",
      "'a[ab]+' (a followed by 1 or more a or b)\n",
      "\n",
      "  'abbaabbba'\n",
      "  'abbaabbba'\n",
      "\n",
      "'a[ab]+?' (a followed by 1 or more a or b, not greedy)\n",
      "\n",
      "  'abbaabbba'\n",
      "  'ab'\n",
      "  ...'aa'\n",
      "\n"
     ]
    }
   ],
   "source": [
    "test_patterns(\n",
    "    'abbaabbba',\n",
    "    [('[ab]', 'either a or b'),\n",
    "     ('a[ab]+', 'a followed by 1 or more a or b'),\n",
    "     ('a[ab]+?', 'a followed by 1 or more a or b, not greedy')],\n",
    ")"
   ]
  },
  {
   "cell_type": "code",
   "execution_count": 20,
   "metadata": {},
   "outputs": [
    {
     "name": "stdout",
     "output_type": "stream",
     "text": [
      "'[^-. ]+' (sequences without -, ., or space)\n",
      "\n",
      "  'This is some text -- with punctuation.'\n",
      "  'This'\n",
      "  .....'is'\n",
      "  ........'some'\n",
      "  .............'text'\n",
      "  .....................'with'\n",
      "  ..........................'punctuation'\n",
      "\n"
     ]
    }
   ],
   "source": [
    "test_patterns(\n",
    "    'This is some text -- with punctuation.',\n",
    "    [('[^-. ]+', 'sequences without -, ., or space')],\n",
    ")"
   ]
  },
  {
   "cell_type": "code",
   "execution_count": 21,
   "metadata": {},
   "outputs": [
    {
     "name": "stdout",
     "output_type": "stream",
     "text": [
      "'[a-z]+' (sequences of lowercase letters)\n",
      "\n",
      "  'This is some text -- with punctuation.'\n",
      "  .'his'\n",
      "  .....'is'\n",
      "  ........'some'\n",
      "  .............'text'\n",
      "  .....................'with'\n",
      "  ..........................'punctuation'\n",
      "\n",
      "'[A-Z]+' (sequences of uppercase letters)\n",
      "\n",
      "  'This is some text -- with punctuation.'\n",
      "  'T'\n",
      "\n",
      "'[a-zA-Z]+' (sequences of letters of either case)\n",
      "\n",
      "  'This is some text -- with punctuation.'\n",
      "  'This'\n",
      "  .....'is'\n",
      "  ........'some'\n",
      "  .............'text'\n",
      "  .....................'with'\n",
      "  ..........................'punctuation'\n",
      "\n",
      "'[A-Z][a-z]+' (one uppercase followed by lowercase)\n",
      "\n",
      "  'This is some text -- with punctuation.'\n",
      "  'This'\n",
      "\n"
     ]
    }
   ],
   "source": [
    "test_patterns(\n",
    "    'This is some text -- with punctuation.',\n",
    "    [('[a-z]+', 'sequences of lowercase letters'),\n",
    "     ('[A-Z]+', 'sequences of uppercase letters'),\n",
    "     ('[a-zA-Z]+', 'sequences of letters of either case'),\n",
    "     ('[A-Z][a-z]+', 'one uppercase followed by lowercase')],\n",
    ")"
   ]
  },
  {
   "cell_type": "code",
   "execution_count": 24,
   "metadata": {},
   "outputs": [
    {
     "name": "stdout",
     "output_type": "stream",
     "text": [
      "'a.' (a followed by any one character)\n",
      "\n",
      "  'abbaabbba'\n",
      "  'ab'\n",
      "  ...'aa'\n",
      "\n",
      "'b.' (b followed by any one character)\n",
      "\n",
      "  'abbaabbba'\n",
      "  .'bb'\n",
      "  .....'bb'\n",
      "  .......'ba'\n",
      "\n",
      "'a.*b' (a followed by anything, ending in b)\n",
      "\n",
      "  'abbaabbba'\n",
      "  'abbaabbb'\n",
      "\n",
      "'a.*?b' (a followed by anything, ending in b)\n",
      "\n",
      "  'abbaabbba'\n",
      "  'ab'\n",
      "  ...'aab'\n",
      "\n"
     ]
    }
   ],
   "source": [
    "test_patterns(\n",
    "    'abbaabbba',\n",
    "    [('a.', 'a followed by any one character'),\n",
    "     ('b.', 'b followed by any one character'),\n",
    "     ('a.*b', 'a followed by anything, ending in b'),\n",
    "     ('a.*?b', 'a followed by anything, ending in b')],\n",
    ")"
   ]
  },
  {
   "cell_type": "code",
   "execution_count": 25,
   "metadata": {},
   "outputs": [
    {
     "name": "stdout",
     "output_type": "stream",
     "text": [
      "'\\d+' (sequence of digits)\n",
      "\n",
      "  'A prime #1 example!'\n",
      "  .........'1'\n",
      "\n",
      "'\\D+' (sequence of non-digits)\n",
      "\n",
      "  'A prime #1 example!'\n",
      "  'A prime #'\n",
      "  ..........' example!'\n",
      "\n",
      "'\\s+' (sequence of whitespace)\n",
      "\n",
      "  'A prime #1 example!'\n",
      "  .' '\n",
      "  .......' '\n",
      "  ..........' '\n",
      "\n",
      "'\\S+' (sequence of non-whitespace)\n",
      "\n",
      "  'A prime #1 example!'\n",
      "  'A'\n",
      "  ..'prime'\n",
      "  ........'#1'\n",
      "  ...........'example!'\n",
      "\n",
      "'\\w+' (alphanumeric characters)\n",
      "\n",
      "  'A prime #1 example!'\n",
      "  'A'\n",
      "  ..'prime'\n",
      "  .........'1'\n",
      "  ...........'example'\n",
      "\n",
      "'\\W+' (non-alphanumeric)\n",
      "\n",
      "  'A prime #1 example!'\n",
      "  .' '\n",
      "  .......' #'\n",
      "  ..........' '\n",
      "  ..................'!'\n",
      "\n"
     ]
    }
   ],
   "source": [
    "test_patterns(\n",
    "    'A prime #1 example!',\n",
    "    [(r'\\d+', 'sequence of digits'),\n",
    "     (r'\\D+', 'sequence of non-digits'),\n",
    "     (r'\\s+', 'sequence of whitespace'),\n",
    "     (r'\\S+', 'sequence of non-whitespace'),\n",
    "     (r'\\w+', 'alphanumeric characters'),\n",
    "     (r'\\W+', 'non-alphanumeric')],\n",
    ")"
   ]
  },
  {
   "cell_type": "code",
   "execution_count": 26,
   "metadata": {},
   "outputs": [
    {
     "name": "stdout",
     "output_type": "stream",
     "text": [
      "'\\\\.\\+' (escape code)\n",
      "\n",
      "  '\\d+ \\D+ \\s+'\n",
      "  '\\d+'\n",
      "  .....'\\D+'\n",
      "  ..........'\\s+'\n",
      "\n"
     ]
    }
   ],
   "source": [
    "test_patterns(\n",
    "    r'\\d+ \\D+ \\s+',\n",
    "    [(r'\\\\.\\+', 'escape code')],\n",
    ")"
   ]
  },
  {
   "cell_type": "code",
   "execution_count": 28,
   "metadata": {},
   "outputs": [
    {
     "name": "stdout",
     "output_type": "stream",
     "text": [
      "'^\\w+' (word at start of string)\n",
      "\n",
      "  'This is some text -- with punctuation.'\n",
      "  'This'\n",
      "\n",
      "'\\A\\w+' (word at start of string)\n",
      "\n",
      "  'This is some text -- with punctuation.'\n",
      "  'This'\n",
      "\n",
      "'\\w+\\S*$' (word near end of string)\n",
      "\n",
      "  'This is some text -- with punctuation.'\n",
      "  ..........................'punctuation.'\n",
      "\n",
      "'\\w+\\S*\\Z' (word near end of string)\n",
      "\n",
      "  'This is some text -- with punctuation.'\n",
      "  ..........................'punctuation.'\n",
      "\n",
      "'\\w*t\\w*' (word containing t)\n",
      "\n",
      "  'This is some text -- with punctuation.'\n",
      "  .............'text'\n",
      "  .....................'with'\n",
      "  ..........................'punctuation'\n",
      "\n",
      "'\\bt\\w+' (t at start of word)\n",
      "\n",
      "  'This is some text -- with punctuation.'\n",
      "  .............'text'\n",
      "\n",
      "'\\st\\w+' (t at start of word)\n",
      "\n",
      "  'This is some text -- with punctuation.'\n",
      "  ............' text'\n",
      "\n",
      "'\\w+t\\b' (t at end of word)\n",
      "\n",
      "  'This is some text -- with punctuation.'\n",
      "  .............'text'\n",
      "\n",
      "'\\Bt\\B' (t, not start or end of word)\n",
      "\n",
      "  'This is some text -- with punctuation.'\n",
      "  .......................'t'\n",
      "  ..............................'t'\n",
      "  .................................'t'\n",
      "\n"
     ]
    }
   ],
   "source": [
    "test_patterns(\n",
    "    'This is some text -- with punctuation.',\n",
    "    [(r'^\\w+', 'word at start of string'),\n",
    "     (r'\\A\\w+', 'word at start of string'),\n",
    "     (r'\\w+\\S*$', 'word near end of string'),\n",
    "     (r'\\w+\\S*\\Z', 'word near end of string'),\n",
    "     (r'\\w*t\\w*', 'word containing t'),\n",
    "     (r'\\bt\\w+', 't at start of word'),\n",
    "     (r'\\st\\w+', 't at start of word'),\n",
    "     (r'\\w+t\\b', 't at end of word'),\n",
    "     (r'\\Bt\\B', 't, not start or end of word')],\n",
    ")"
   ]
  },
  {
   "cell_type": "code",
   "execution_count": 29,
   "metadata": {},
   "outputs": [
    {
     "name": "stdout",
     "output_type": "stream",
     "text": [
      "Text   : This is some text -- with punctuation.\n",
      "Pattern: is\n",
      "Match  : None\n",
      "Search : <_sre.SRE_Match object; span=(2, 4), match='is'>\n"
     ]
    }
   ],
   "source": [
    "text = 'This is some text -- with punctuation.'\n",
    "pattern = 'is'\n",
    "\n",
    "print('Text   :', text)\n",
    "print('Pattern:', pattern)\n",
    "\n",
    "m = re.match(pattern, text)\n",
    "print('Match  :', m)\n",
    "s = re.search(pattern, text)\n",
    "print('Search :', s)"
   ]
  },
  {
   "cell_type": "code",
   "execution_count": null,
   "metadata": {},
   "outputs": [],
   "source": []
  }
 ],
 "metadata": {
  "kernelspec": {
   "display_name": "Python 3",
   "language": "python",
   "name": "python3"
  },
  "language_info": {
   "codemirror_mode": {
    "name": "ipython",
    "version": 3
   },
   "file_extension": ".py",
   "mimetype": "text/x-python",
   "name": "python",
   "nbconvert_exporter": "python",
   "pygments_lexer": "ipython3",
   "version": "3.6.9"
  }
 },
 "nbformat": 4,
 "nbformat_minor": 2
}
