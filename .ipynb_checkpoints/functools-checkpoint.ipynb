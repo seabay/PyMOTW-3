{
 "cells": [
  {
   "cell_type": "code",
   "execution_count": 1,
   "metadata": {},
   "outputs": [],
   "source": [
    "import functools\n",
    "\n",
    "\n",
    "def myfunc(a, b=2):\n",
    "    \"Docstring for myfunc().\"\n",
    "    print('  called myfunc with:', (a, b))\n",
    "\n",
    "\n",
    "def show_details(name, f, is_partial=False):\n",
    "    \"Show details of a callable object.\"\n",
    "    print('{}:'.format(name))\n",
    "    print('  object:', f)\n",
    "    if not is_partial:\n",
    "        print('  __name__:', f.__name__)\n",
    "    if is_partial:\n",
    "        print('  func:', f.func)\n",
    "        print('  args:', f.args)\n",
    "        print('  keywords:', f.keywords)\n",
    "    return"
   ]
  },
  {
   "cell_type": "code",
   "execution_count": 2,
   "metadata": {},
   "outputs": [
    {
     "name": "stdout",
     "output_type": "stream",
     "text": [
      "myfunc:\n",
      "  object: <function myfunc at 0x10537b1e0>\n",
      "  __name__: myfunc\n",
      "  called myfunc with: ('a', 3)\n",
      "\n"
     ]
    }
   ],
   "source": [
    "show_details('myfunc', myfunc)\n",
    "myfunc('a', 3)\n",
    "print()"
   ]
  },
  {
   "cell_type": "code",
   "execution_count": 3,
   "metadata": {},
   "outputs": [
    {
     "name": "stdout",
     "output_type": "stream",
     "text": [
      "partial with named default:\n",
      "  object: functools.partial(<function myfunc at 0x10537b1e0>, b=4)\n",
      "  func: <function myfunc at 0x10537b1e0>\n",
      "  args: ()\n",
      "  keywords: {'b': 4}\n",
      "  called myfunc with: ('passing a', 4)\n",
      "  called myfunc with: ('override b', 5)\n",
      "\n"
     ]
    }
   ],
   "source": [
    "# Set a different default value for 'b', but require\n",
    "# the caller to provide 'a'.\n",
    "p1 = functools.partial(myfunc, b=4)\n",
    "show_details('partial with named default', p1, True)\n",
    "\n",
    "p1('passing a')\n",
    "p1('override b', b=5)\n",
    "print()"
   ]
  },
  {
   "cell_type": "code",
   "execution_count": 4,
   "metadata": {},
   "outputs": [
    {
     "name": "stdout",
     "output_type": "stream",
     "text": [
      "partial with defaults:\n",
      "  object: functools.partial(<function myfunc at 0x10537b1e0>, 'default a', b=99)\n",
      "  func: <function myfunc at 0x10537b1e0>\n",
      "  args: ('default a',)\n",
      "  keywords: {'b': 99}\n",
      "  called myfunc with: ('default a', 99)\n",
      "  called myfunc with: ('default a', 'override b')\n",
      "\n"
     ]
    }
   ],
   "source": [
    "# Set default values for both 'a' and 'b'.\n",
    "p2 = functools.partial(myfunc, 'default a', b=99)\n",
    "show_details('partial with defaults', p2, True)\n",
    "p2()\n",
    "p2(b='override b')\n",
    "print()"
   ]
  },
  {
   "cell_type": "code",
   "execution_count": 5,
   "metadata": {},
   "outputs": [
    {
     "name": "stdout",
     "output_type": "stream",
     "text": [
      "Insufficient arguments:\n"
     ]
    },
    {
     "ename": "TypeError",
     "evalue": "myfunc() missing 1 required positional argument: 'a'",
     "output_type": "error",
     "traceback": [
      "\u001b[0;31m---------------------------------------------------------------------------\u001b[0m",
      "\u001b[0;31mTypeError\u001b[0m                                 Traceback (most recent call last)",
      "\u001b[0;32m<ipython-input-5-3cd3add8f640>\u001b[0m in \u001b[0;36m<module>\u001b[0;34m\u001b[0m\n\u001b[1;32m      1\u001b[0m \u001b[0mprint\u001b[0m\u001b[0;34m(\u001b[0m\u001b[0;34m'Insufficient arguments:'\u001b[0m\u001b[0;34m)\u001b[0m\u001b[0;34m\u001b[0m\u001b[0;34m\u001b[0m\u001b[0m\n\u001b[0;32m----> 2\u001b[0;31m \u001b[0mp1\u001b[0m\u001b[0;34m(\u001b[0m\u001b[0;34m)\u001b[0m\u001b[0;34m\u001b[0m\u001b[0;34m\u001b[0m\u001b[0m\n\u001b[0m",
      "\u001b[0;31mTypeError\u001b[0m: myfunc() missing 1 required positional argument: 'a'"
     ]
    }
   ],
   "source": [
    "print('Insufficient arguments:')\n",
    "p1()"
   ]
  },
  {
   "cell_type": "code",
   "execution_count": null,
   "metadata": {},
   "outputs": [],
   "source": []
  },
  {
   "cell_type": "markdown",
   "metadata": {},
   "source": [
    "## Acquiring Function Properties"
   ]
  },
  {
   "cell_type": "code",
   "execution_count": 9,
   "metadata": {},
   "outputs": [
    {
     "name": "stdout",
     "output_type": "stream",
     "text": [
      "myfunc:\n",
      "  object: <function myfunc at 0x1072ae9d8>\n",
      "  __name__: myfunc\n",
      "  __doc__ 'Docstring for myfunc().'\n",
      "\n",
      "raw wrapper:\n",
      "  object: functools.partial(<function myfunc at 0x1072ae9d8>, b=4)\n",
      "  __name__: (no __name__)\n",
      "  __doc__ 'partial(func, *args, **keywords) - new function with partial application\\n    of the given arguments and keywords.\\n'\n",
      "\n",
      "Updating wrapper:\n",
      "  assign: ('__module__', '__name__', '__qualname__', '__doc__', '__annotations__')\n",
      "  update: ('__dict__',)\n",
      "\n",
      "updated wrapper:\n",
      "  object: functools.partial(<function myfunc at 0x1072ae9d8>, b=4)\n",
      "  __name__: myfunc\n",
      "  __doc__ 'Docstring for myfunc().'\n",
      "\n"
     ]
    }
   ],
   "source": [
    "def myfunc(a, b=2):\n",
    "    \"Docstring for myfunc().\"\n",
    "    print('  called myfunc with:', (a, b))\n",
    "\n",
    "\n",
    "def show_details(name, f):\n",
    "    \"Show details of a callable object.\"\n",
    "    print('{}:'.format(name))\n",
    "    print('  object:', f)\n",
    "    print('  __name__:', end=' ')\n",
    "    try:\n",
    "        print(f.__name__)\n",
    "    except AttributeError:\n",
    "        print('(no __name__)')\n",
    "    print('  __doc__', repr(f.__doc__))\n",
    "    print()\n",
    "\n",
    "\n",
    "show_details('myfunc', myfunc)\n",
    "\n",
    "p1 = functools.partial(myfunc, b=4)\n",
    "show_details('raw wrapper', p1)\n",
    "\n",
    "print('Updating wrapper:')\n",
    "print('  assign:', functools.WRAPPER_ASSIGNMENTS)\n",
    "print('  update:', functools.WRAPPER_UPDATES)\n",
    "print()\n",
    "\n",
    "functools.update_wrapper(p1, myfunc)\n",
    "show_details('updated wrapper', p1)"
   ]
  },
  {
   "cell_type": "code",
   "execution_count": null,
   "metadata": {},
   "outputs": [],
   "source": []
  },
  {
   "cell_type": "code",
   "execution_count": null,
   "metadata": {},
   "outputs": [],
   "source": []
  },
  {
   "cell_type": "code",
   "execution_count": 12,
   "metadata": {},
   "outputs": [
    {
     "name": "stdout",
     "output_type": "stream",
     "text": [
      "instance:\n",
      "  object: <__main__.MyClass object at 0x107245780>\n",
      "  __name__: (no __name__)\n",
      "  __doc__ 'Demonstration class for functools'\n",
      "  called object with: (<__main__.MyClass object at 0x107245780>, 'e goes here', 6)\n",
      "\n",
      "instance wrapper:\n",
      "  object: functools.partial(<__main__.MyClass object at 0x107245780>, e='default for e', f=8)\n",
      "  __name__: (no __name__)\n",
      "  __doc__ 'Demonstration class for functools'\n",
      "  called object with: (<__main__.MyClass object at 0x107245780>, 'default for e', 8)\n"
     ]
    }
   ],
   "source": [
    "class MyClass:\n",
    "    \"Demonstration class for functools\"\n",
    "\n",
    "    def __call__(self, e, f=6):\n",
    "        \"Docstring for MyClass.__call__\"\n",
    "        print('  called object with:', (self, e, f))\n",
    "\n",
    "\n",
    "def show_details(name, f):\n",
    "    \"Show details of a callable object.\"\n",
    "    print('{}:'.format(name))\n",
    "    print('  object:', f)\n",
    "    print('  __name__:', end=' ')\n",
    "    try:\n",
    "        print(f.__name__)\n",
    "    except AttributeError:\n",
    "        print('(no __name__)')\n",
    "    print('  __doc__', repr(f.__doc__))\n",
    "    return\n",
    "\n",
    "\n",
    "o = MyClass()\n",
    "\n",
    "show_details('instance', o)\n",
    "o('e goes here')\n",
    "print()\n",
    "\n",
    "p = functools.partial(o, e='default for e', f=8)\n",
    "functools.update_wrapper(p, o)\n",
    "show_details('instance wrapper', p)\n",
    "p()"
   ]
  },
  {
   "cell_type": "code",
   "execution_count": null,
   "metadata": {},
   "outputs": [],
   "source": []
  },
  {
   "cell_type": "code",
   "execution_count": null,
   "metadata": {},
   "outputs": [],
   "source": []
  },
  {
   "cell_type": "code",
   "execution_count": 13,
   "metadata": {},
   "outputs": [
    {
     "name": "stdout",
     "output_type": "stream",
     "text": [
      "standalone\n",
      "  called standalone with: (None, 1, 2)\n",
      "\n",
      "method1 as partialmethod\n",
      "  called standalone with: (<__main__.MyClass object at 0x107245320>, 1, 2)\n",
      "  self.attr = instance attribute\n",
      "\n",
      "method2 as partial\n",
      "ERROR: standalone() missing 1 required positional argument: 'self'\n"
     ]
    }
   ],
   "source": [
    "def standalone(self, a=1, b=2):\n",
    "    \"Standalone function\"\n",
    "    print('  called standalone with:', (self, a, b))\n",
    "    if self is not None:\n",
    "        print('  self.attr =', self.attr)\n",
    "\n",
    "\n",
    "class MyClass:\n",
    "    \"Demonstration class for functools\"\n",
    "\n",
    "    def __init__(self):\n",
    "        self.attr = 'instance attribute'\n",
    "\n",
    "    method1 = functools.partialmethod(standalone)\n",
    "    method2 = functools.partial(standalone)\n",
    "\n",
    "\n",
    "o = MyClass()\n",
    "\n",
    "print('standalone')\n",
    "standalone(None)\n",
    "print()\n",
    "\n",
    "print('method1 as partialmethod')\n",
    "o.method1()\n",
    "print()\n",
    "\n",
    "print('method2 as partial')\n",
    "try:\n",
    "    o.method2()\n",
    "except TypeError as err:\n",
    "    print('ERROR: {}'.format(err))"
   ]
  },
  {
   "cell_type": "code",
   "execution_count": null,
   "metadata": {},
   "outputs": [],
   "source": []
  },
  {
   "cell_type": "markdown",
   "metadata": {},
   "source": [
    "# functools.wraps(f)"
   ]
  },
  {
   "cell_type": "code",
   "execution_count": 14,
   "metadata": {},
   "outputs": [
    {
     "name": "stdout",
     "output_type": "stream",
     "text": [
      "myfunc:\n",
      "  object: <function myfunc at 0x107305d90>\n",
      "  __name__: myfunc\n",
      "  __doc__ 'myfunc() is not complicated'\n",
      "\n",
      "  myfunc: ('unwrapped, default b', 2)\n",
      "  myfunc: ('unwrapped, passing b', 3)\n",
      "\n",
      "wrapped_myfunc:\n",
      "  object: <function myfunc at 0x107305510>\n",
      "  __name__: myfunc\n",
      "  __doc__ 'myfunc() is not complicated'\n",
      "\n",
      "  decorated: ('decorated defaults', 1)\n",
      "     myfunc: ('decorated defaults', 1)\n",
      "  decorated: ('args to wrapped', 4)\n",
      "     myfunc: ('args to wrapped', 4)\n",
      "\n",
      "decorated_myfunc:\n",
      "  object: <function decorated_myfunc at 0x1072ec378>\n",
      "  __name__: decorated_myfunc\n",
      "  __doc__ None\n",
      "\n",
      "  decorated: ('decorated defaults', 1)\n",
      "     myfunc: ('decorated defaults', 1)\n",
      "  decorated: ('args to decorated', 4)\n",
      "     myfunc: ('args to decorated', 4)\n"
     ]
    }
   ],
   "source": [
    "def show_details(name, f):\n",
    "    \"Show details of a callable object.\"\n",
    "    print('{}:'.format(name))\n",
    "    print('  object:', f)\n",
    "    print('  __name__:', end=' ')\n",
    "    try:\n",
    "        print(f.__name__)\n",
    "    except AttributeError:\n",
    "        print('(no __name__)')\n",
    "    print('  __doc__', repr(f.__doc__))\n",
    "    print()\n",
    "\n",
    "\n",
    "def simple_decorator(f):\n",
    "    @functools.wraps(f)\n",
    "    def decorated(a='decorated defaults', b=1):\n",
    "        print('  decorated:', (a, b))\n",
    "        print('  ', end=' ')\n",
    "        return f(a, b=b)\n",
    "    return decorated\n",
    "\n",
    "\n",
    "def myfunc(a, b=2):\n",
    "    \"myfunc() is not complicated\"\n",
    "    print('  myfunc:', (a, b))\n",
    "    return\n",
    "\n",
    "\n",
    "# The raw function\n",
    "show_details('myfunc', myfunc)\n",
    "myfunc('unwrapped, default b')\n",
    "myfunc('unwrapped, passing b', 3)\n",
    "print()\n",
    "\n",
    "# Wrap explicitly\n",
    "wrapped_myfunc = simple_decorator(myfunc)\n",
    "show_details('wrapped_myfunc', wrapped_myfunc)\n",
    "wrapped_myfunc()\n",
    "wrapped_myfunc('args to wrapped', 4)\n",
    "print()\n",
    "\n",
    "\n",
    "# Wrap with decorator syntax\n",
    "@simple_decorator\n",
    "def decorated_myfunc(a, b):\n",
    "    myfunc(a, b)\n",
    "    return\n",
    "\n",
    "\n",
    "show_details('decorated_myfunc', decorated_myfunc)\n",
    "decorated_myfunc()\n",
    "decorated_myfunc('args to decorated', 4)"
   ]
  },
  {
   "cell_type": "code",
   "execution_count": null,
   "metadata": {},
   "outputs": [],
   "source": []
  }
 ],
 "metadata": {
  "kernelspec": {
   "display_name": "Python 3",
   "language": "python",
   "name": "python3"
  },
  "language_info": {
   "codemirror_mode": {
    "name": "ipython",
    "version": 3
   },
   "file_extension": ".py",
   "mimetype": "text/x-python",
   "name": "python",
   "nbconvert_exporter": "python",
   "pygments_lexer": "ipython3",
   "version": "3.6.9"
  }
 },
 "nbformat": 4,
 "nbformat_minor": 2
}
