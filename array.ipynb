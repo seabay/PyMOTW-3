{
 "cells": [
  {
   "cell_type": "code",
   "execution_count": 3,
   "metadata": {},
   "outputs": [],
   "source": [
    "import binascii\n",
    "import array\n"
   ]
  },
  {
   "cell_type": "code",
   "execution_count": 4,
   "metadata": {},
   "outputs": [
    {
     "name": "stdout",
     "output_type": "stream",
     "text": [
      "As byte string: b'This is the array.'\n",
      "As array      : array('b', [84, 104, 105, 115, 32, 105, 115, 32, 116, 104, 101, 32, 97, 114, 114, 97, 121, 46])\n",
      "As hex        : b'54686973206973207468652061727261792e'\n"
     ]
    }
   ],
   "source": [
    "s = b'This is the array.'\n",
    "a = array.array('b', s)\n",
    "\n",
    "print('As byte string:', s)\n",
    "print('As array      :', a)\n",
    "print('As hex        :', binascii.hexlify(a))"
   ]
  },
  {
   "cell_type": "code",
   "execution_count": 5,
   "metadata": {},
   "outputs": [
    {
     "name": "stdout",
     "output_type": "stream",
     "text": [
      "Initial : array('i', [0, 1, 2])\n",
      "Extended: array('i', [0, 1, 2, 0, 1, 2])\n",
      "Slice   : array('i', [2, 0, 1])\n",
      "Iterator:\n",
      "[(0, 0), (1, 1), (2, 2), (3, 0), (4, 1), (5, 2)]\n"
     ]
    }
   ],
   "source": [
    "import pprint\n",
    "\n",
    "a = array.array('i', range(3))\n",
    "print('Initial :', a)\n",
    "\n",
    "a.extend(range(3))\n",
    "print('Extended:', a)\n",
    "\n",
    "print('Slice   :', a[2:5])\n",
    "\n",
    "print('Iterator:')\n",
    "print(list(enumerate(a)))"
   ]
  },
  {
   "cell_type": "code",
   "execution_count": null,
   "metadata": {},
   "outputs": [],
   "source": []
  },
  {
   "cell_type": "code",
   "execution_count": 8,
   "metadata": {},
   "outputs": [
    {
     "name": "stdout",
     "output_type": "stream",
     "text": [
      "A1: array('i', [0, 1])\n",
      "Raw Contents: b'0000000001000000'\n",
      "A2: array('i', [0, 1])\n"
     ]
    }
   ],
   "source": [
    "import tempfile\n",
    "\n",
    "a = array.array('i', range(2))\n",
    "print('A1:', a)\n",
    "\n",
    "# Write the array of numbers to a temporary file\n",
    "output = tempfile.NamedTemporaryFile()\n",
    "a.tofile(output.file)  # must pass an *actual* file\n",
    "output.flush()\n",
    "\n",
    "# Read the raw data\n",
    "with open(output.name, 'rb') as input:\n",
    "    raw_data = input.read()\n",
    "    print('Raw Contents:', binascii.hexlify(raw_data))\n",
    "\n",
    "    # Read the data into an array\n",
    "    input.seek(0)\n",
    "    a2 = array.array('i')\n",
    "    a2.fromfile(input, len(a))\n",
    "    print('A2:', a2)"
   ]
  },
  {
   "cell_type": "code",
   "execution_count": null,
   "metadata": {},
   "outputs": [],
   "source": []
  },
  {
   "cell_type": "code",
   "execution_count": 9,
   "metadata": {},
   "outputs": [
    {
     "name": "stdout",
     "output_type": "stream",
     "text": [
      "A1: array('i', [0, 1, 2, 3, 4])\n",
      "Bytes: b'0000000001000000020000000300000004000000'\n",
      "A2: array('i', [0, 1, 2, 3, 4])\n"
     ]
    }
   ],
   "source": [
    "a = array.array('i', range(5))\n",
    "print('A1:', a)\n",
    "\n",
    "as_bytes = a.tobytes()\n",
    "print('Bytes:', binascii.hexlify(as_bytes))\n",
    "\n",
    "a2 = array.array('i')\n",
    "a2.frombytes(as_bytes)\n",
    "print('A2:', a2)"
   ]
  },
  {
   "cell_type": "code",
   "execution_count": null,
   "metadata": {},
   "outputs": [],
   "source": []
  },
  {
   "cell_type": "code",
   "execution_count": 32,
   "metadata": {},
   "outputs": [],
   "source": [
    "start = int('0x1d', 16)"
   ]
  },
  {
   "cell_type": "code",
   "execution_count": 34,
   "metadata": {},
   "outputs": [
    {
     "data": {
      "text/plain": [
       "29"
      ]
     },
     "execution_count": 34,
     "metadata": {},
     "output_type": "execute_result"
    }
   ],
   "source": [
    "start  # to decimal => 1*16 + d(13)\n"
   ]
  },
  {
   "cell_type": "code",
   "execution_count": 35,
   "metadata": {},
   "outputs": [],
   "source": [
    "a = array.array('i', [start])"
   ]
  },
  {
   "cell_type": "code",
   "execution_count": 36,
   "metadata": {},
   "outputs": [
    {
     "data": {
      "text/plain": [
       "b'1d000000'"
      ]
     },
     "execution_count": 36,
     "metadata": {},
     "output_type": "execute_result"
    }
   ],
   "source": [
    "binascii.hexlify(a)"
   ]
  },
  {
   "cell_type": "code",
   "execution_count": null,
   "metadata": {},
   "outputs": [],
   "source": []
  }
 ],
 "metadata": {
  "kernelspec": {
   "display_name": "Python 3",
   "language": "python",
   "name": "python3"
  },
  "language_info": {
   "codemirror_mode": {
    "name": "ipython",
    "version": 3
   },
   "file_extension": ".py",
   "mimetype": "text/x-python",
   "name": "python",
   "nbconvert_exporter": "python",
   "pygments_lexer": "ipython3",
   "version": "3.6.9"
  }
 },
 "nbformat": 4,
 "nbformat_minor": 2
}
