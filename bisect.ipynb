{
 "cells": [
  {
   "cell_type": "code",
   "execution_count": 1,
   "metadata": {},
   "outputs": [],
   "source": [
    "import bisect\n",
    "\n"
   ]
  },
  {
   "cell_type": "code",
   "execution_count": 2,
   "metadata": {},
   "outputs": [
    {
     "name": "stdout",
     "output_type": "stream",
     "text": [
      "New  Pos  Contents\n",
      "---  ---  --------\n",
      " 14    0 [14]\n",
      " 85    1 [14, 85]\n",
      " 77    1 [14, 77, 85]\n",
      " 26    1 [14, 26, 77, 85]\n",
      " 50    2 [14, 26, 50, 77, 85]\n",
      " 45    2 [14, 26, 45, 50, 77, 85]\n",
      " 66    4 [14, 26, 45, 50, 66, 77, 85]\n",
      " 79    6 [14, 26, 45, 50, 66, 77, 79, 85]\n",
      " 10    0 [10, 14, 26, 45, 50, 66, 77, 79, 85]\n",
      "  3    0 [3, 10, 14, 26, 45, 50, 66, 77, 79, 85]\n",
      " 84    9 [3, 10, 14, 26, 45, 50, 66, 77, 79, 84, 85]\n",
      " 77    8 [3, 10, 14, 26, 45, 50, 66, 77, 77, 79, 84, 85]\n",
      "  1    0 [1, 3, 10, 14, 26, 45, 50, 66, 77, 77, 79, 84, 85]\n"
     ]
    }
   ],
   "source": [
    "# A series of random numbers\n",
    "values = [14, 85, 77, 26, 50, 45, 66, 79, 10, 3, 84, 77, 1]\n",
    "\n",
    "print('New  Pos  Contents')\n",
    "print('---  ---  --------')\n",
    "\n",
    "l = []\n",
    "for i in values:\n",
    "    position = bisect.bisect(l, i)\n",
    "    bisect.insort(l, i)\n",
    "    print('{:3}  {:3}'.format(i, position), l)"
   ]
  },
  {
   "cell_type": "code",
   "execution_count": null,
   "metadata": {},
   "outputs": [],
   "source": []
  },
  {
   "cell_type": "code",
   "execution_count": 3,
   "metadata": {},
   "outputs": [
    {
     "name": "stdout",
     "output_type": "stream",
     "text": [
      "New  Pos  Contents\n",
      "---  ---  --------\n",
      " 14    0 [14]\n",
      " 85    1 [14, 85]\n",
      " 77    1 [14, 77, 85]\n",
      " 26    1 [14, 26, 77, 85]\n",
      " 50    2 [14, 26, 50, 77, 85]\n",
      " 45    2 [14, 26, 45, 50, 77, 85]\n",
      " 66    4 [14, 26, 45, 50, 66, 77, 85]\n",
      " 79    6 [14, 26, 45, 50, 66, 77, 79, 85]\n",
      " 10    0 [10, 14, 26, 45, 50, 66, 77, 79, 85]\n",
      "  3    0 [3, 10, 14, 26, 45, 50, 66, 77, 79, 85]\n",
      " 84    9 [3, 10, 14, 26, 45, 50, 66, 77, 79, 84, 85]\n",
      " 77    7 [3, 10, 14, 26, 45, 50, 66, 77, 77, 79, 84, 85]\n",
      "  1    0 [1, 3, 10, 14, 26, 45, 50, 66, 77, 77, 79, 84, 85]\n"
     ]
    }
   ],
   "source": [
    "# A series of random numbers\n",
    "values = [14, 85, 77, 26, 50, 45, 66, 79, 10, 3, 84, 77, 1]\n",
    "\n",
    "print('New  Pos  Contents')\n",
    "print('---  ---  --------')\n",
    "\n",
    "# Use bisect_left and insort_left.\n",
    "l = []\n",
    "for i in values:\n",
    "    position = bisect.bisect_left(l, i)\n",
    "    bisect.insort_left(l, i)\n",
    "    print('{:3}  {:3}'.format(i, position), l)"
   ]
  },
  {
   "cell_type": "code",
   "execution_count": null,
   "metadata": {},
   "outputs": [],
   "source": []
  }
 ],
 "metadata": {
  "kernelspec": {
   "display_name": "Python 3",
   "language": "python",
   "name": "python3"
  },
  "language_info": {
   "codemirror_mode": {
    "name": "ipython",
    "version": 3
   },
   "file_extension": ".py",
   "mimetype": "text/x-python",
   "name": "python",
   "nbconvert_exporter": "python",
   "pygments_lexer": "ipython3",
   "version": "3.6.9"
  }
 },
 "nbformat": 4,
 "nbformat_minor": 2
}
