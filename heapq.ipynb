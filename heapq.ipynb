{
 "cells": [
  {
   "cell_type": "code",
   "execution_count": 15,
   "metadata": {},
   "outputs": [],
   "source": [
    "data = [19, 9, 4, 10, 11]"
   ]
  },
  {
   "cell_type": "code",
   "execution_count": 2,
   "metadata": {},
   "outputs": [],
   "source": [
    "import math\n",
    "from io import StringIO\n",
    "\n",
    "\n",
    "def show_tree(tree, total_width=36, fill=' '):\n",
    "    \"\"\"Pretty-print a tree.\"\"\"\n",
    "    output = StringIO()\n",
    "    last_row = -1\n",
    "    for i, n in enumerate(tree):\n",
    "        if i:\n",
    "            row = int(math.floor(math.log(i + 1, 2)))\n",
    "        else:\n",
    "            row = 0\n",
    "        if row != last_row:\n",
    "            output.write('\\n')\n",
    "        columns = 2 ** row\n",
    "        col_width = int(math.floor(total_width / columns))\n",
    "        output.write(str(n).center(col_width, fill))\n",
    "        last_row = row\n",
    "    print(output.getvalue())\n",
    "    print('-' * total_width)\n",
    "    print()"
   ]
  },
  {
   "cell_type": "code",
   "execution_count": 5,
   "metadata": {},
   "outputs": [],
   "source": [
    "import heapq"
   ]
  },
  {
   "cell_type": "code",
   "execution_count": 6,
   "metadata": {},
   "outputs": [
    {
     "name": "stdout",
     "output_type": "stream",
     "text": [
      "random : [19, 9, 4, 10, 11]\n",
      "\n",
      "add  19:\n",
      "\n",
      "                 19                 \n",
      "------------------------------------\n",
      "\n",
      "add   9:\n",
      "\n",
      "                 9                  \n",
      "        19        \n",
      "------------------------------------\n",
      "\n",
      "add   4:\n",
      "\n",
      "                 4                  \n",
      "        19                9         \n",
      "------------------------------------\n",
      "\n",
      "add  10:\n",
      "\n",
      "                 4                  \n",
      "        10                9         \n",
      "    19   \n",
      "------------------------------------\n",
      "\n",
      "add  11:\n",
      "\n",
      "                 4                  \n",
      "        10                9         \n",
      "    19       11   \n",
      "------------------------------------\n",
      "\n"
     ]
    }
   ],
   "source": [
    "heap = []\n",
    "print('random :', data)\n",
    "print()\n",
    "\n",
    "for n in data:\n",
    "    print('add {:>3}:'.format(n))\n",
    "    heapq.heappush(heap, n)\n",
    "    show_tree(heap)"
   ]
  },
  {
   "cell_type": "code",
   "execution_count": null,
   "metadata": {},
   "outputs": [],
   "source": []
  },
  {
   "cell_type": "code",
   "execution_count": 16,
   "metadata": {},
   "outputs": [
    {
     "name": "stdout",
     "output_type": "stream",
     "text": [
      "random    : [19, 9, 4, 10, 11]\n",
      "heapified : [4, 9, 19, 10, 11]\n",
      "\n",
      "                 4                  \n",
      "        9                 19        \n",
      "    10       11   \n",
      "------------------------------------\n",
      "\n"
     ]
    }
   ],
   "source": [
    "print('random    :', data)\n",
    "heapq.heapify(data)\n",
    "print('heapified :', data)\n",
    "show_tree(data)\n"
   ]
  },
  {
   "cell_type": "code",
   "execution_count": null,
   "metadata": {},
   "outputs": [],
   "source": []
  },
  {
   "cell_type": "code",
   "execution_count": 8,
   "metadata": {},
   "outputs": [
    {
     "name": "stdout",
     "output_type": "stream",
     "text": [
      "random    : [4, 9, 19, 10, 11]\n",
      "heapified :\n",
      "\n",
      "                 4                  \n",
      "        9                 19        \n",
      "    10       11   \n",
      "------------------------------------\n",
      "\n",
      "\n",
      "pop      4:\n",
      "\n",
      "                 9                  \n",
      "        10                19        \n",
      "    11   \n",
      "------------------------------------\n",
      "\n",
      "pop      9:\n",
      "\n",
      "                 10                 \n",
      "        11                19        \n",
      "------------------------------------\n",
      "\n"
     ]
    }
   ],
   "source": [
    "print('random    :', data)\n",
    "heapq.heapify(data)\n",
    "print('heapified :')\n",
    "show_tree(data)\n",
    "print()\n",
    "\n",
    "for i in range(2):\n",
    "    smallest = heapq.heappop(data)\n",
    "    print('pop    {:>3}:'.format(smallest))\n",
    "    show_tree(data)"
   ]
  },
  {
   "cell_type": "code",
   "execution_count": null,
   "metadata": {},
   "outputs": [],
   "source": []
  },
  {
   "cell_type": "code",
   "execution_count": 11,
   "metadata": {},
   "outputs": [
    {
     "name": "stdout",
     "output_type": "stream",
     "text": [
      "start:\n",
      "\n",
      "                 13                 \n",
      "        13                19        \n",
      "------------------------------------\n",
      "\n",
      "replace 13 with 15:\n",
      "\n",
      "                 13                 \n",
      "        15                19        \n",
      "------------------------------------\n",
      "\n",
      "replace 13 with 13:\n",
      "\n",
      "                 13                 \n",
      "        15                19        \n",
      "------------------------------------\n",
      "\n"
     ]
    }
   ],
   "source": [
    "heapq.heapify(data)\n",
    "print('start:')\n",
    "show_tree(data)\n",
    "\n",
    "for n in [15, 13]:\n",
    "    smallest = heapq.heapreplace(data, n)\n",
    "    print('replace {:>2} with {:>2}:'.format(smallest, n))\n",
    "    show_tree(data)"
   ]
  },
  {
   "cell_type": "code",
   "execution_count": null,
   "metadata": {},
   "outputs": [],
   "source": []
  },
  {
   "cell_type": "code",
   "execution_count": 12,
   "metadata": {},
   "outputs": [
    {
     "name": "stdout",
     "output_type": "stream",
     "text": [
      "all       : [13, 15, 19]\n",
      "3 largest : [19, 15, 13]\n",
      "from sort : [19, 15, 13]\n",
      "3 smallest: [13, 15, 19]\n",
      "from sort : [13, 15, 19]\n"
     ]
    }
   ],
   "source": [
    "print('all       :', data)\n",
    "print('3 largest :', heapq.nlargest(3, data))\n",
    "print('from sort :', list(reversed(sorted(data)[-3:])))\n",
    "print('3 smallest:', heapq.nsmallest(3, data))\n",
    "print('from sort :', sorted(data)[:3])"
   ]
  },
  {
   "cell_type": "code",
   "execution_count": null,
   "metadata": {},
   "outputs": [],
   "source": []
  },
  {
   "cell_type": "markdown",
   "metadata": {},
   "source": [
    "# Efficiently Merging Sorted Sequences"
   ]
  },
  {
   "cell_type": "code",
   "execution_count": 13,
   "metadata": {},
   "outputs": [
    {
     "name": "stdout",
     "output_type": "stream",
     "text": [
      "0: [33, 58, 71, 88, 95]\n",
      "1: [10, 11, 17, 38, 91]\n",
      "2: [13, 18, 39, 61, 63]\n",
      "3: [20, 27, 31, 42, 45]\n",
      "\n",
      "Merged:\n",
      "10 11 13 17 18 20 27 31 33 38 39 42 45 58 61 63 71 88 91 95 \n"
     ]
    }
   ],
   "source": [
    "import random\n",
    "\n",
    "\n",
    "random.seed(2016)\n",
    "\n",
    "data = []\n",
    "for i in range(4):\n",
    "    new_data = list(random.sample(range(1, 101), 5))\n",
    "    new_data.sort()  ## sorted sequences\n",
    "    data.append(new_data)\n",
    "\n",
    "for i, d in enumerate(data):\n",
    "    print('{}: {}'.format(i, d))\n",
    "\n",
    "print('\\nMerged:')\n",
    "for i in heapq.merge(*data):\n",
    "    print(i, end=' ')\n",
    "print()"
   ]
  },
  {
   "cell_type": "code",
   "execution_count": null,
   "metadata": {},
   "outputs": [],
   "source": []
  }
 ],
 "metadata": {
  "kernelspec": {
   "display_name": "Python 3",
   "language": "python",
   "name": "python3"
  },
  "language_info": {
   "codemirror_mode": {
    "name": "ipython",
    "version": 3
   },
   "file_extension": ".py",
   "mimetype": "text/x-python",
   "name": "python",
   "nbconvert_exporter": "python",
   "pygments_lexer": "ipython3",
   "version": "3.6.9"
  }
 },
 "nbformat": 4,
 "nbformat_minor": 2
}
