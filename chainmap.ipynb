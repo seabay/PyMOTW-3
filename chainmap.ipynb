{
 "cells": [
  {
   "cell_type": "code",
   "execution_count": 1,
   "metadata": {},
   "outputs": [],
   "source": [
    "import collections\n"
   ]
  },
  {
   "cell_type": "code",
   "execution_count": 2,
   "metadata": {},
   "outputs": [
    {
     "name": "stdout",
     "output_type": "stream",
     "text": [
      "Individual Values\n",
      "a = A\n",
      "b = B\n",
      "c = C\n",
      "\n",
      "Keys = ['a', 'b', 'c']\n",
      "Values = ['A', 'B', 'C']\n",
      "\n",
      "Items:\n",
      "a = A\n",
      "b = B\n",
      "c = C\n",
      "\n",
      "\"d\" in m: False\n"
     ]
    }
   ],
   "source": [
    "a = {'a': 'A', 'c': 'C'}\n",
    "b = {'b': 'B', 'c': 'D'}\n",
    "\n",
    "m = collections.ChainMap(a, b)\n",
    "\n",
    "print('Individual Values')\n",
    "print('a = {}'.format(m['a']))\n",
    "print('b = {}'.format(m['b']))\n",
    "print('c = {}'.format(m['c']))\n",
    "print()\n",
    "\n",
    "print('Keys = {}'.format(list(m.keys())))\n",
    "print('Values = {}'.format(list(m.values())))\n",
    "print()\n",
    "\n",
    "print('Items:')\n",
    "for k, v in m.items():\n",
    "    print('{} = {}'.format(k, v))\n",
    "print()\n",
    "\n",
    "print('\"d\" in m: {}'.format(('d' in m)))"
   ]
  },
  {
   "cell_type": "code",
   "execution_count": null,
   "metadata": {},
   "outputs": [],
   "source": []
  },
  {
   "cell_type": "code",
   "execution_count": 3,
   "metadata": {},
   "outputs": [
    {
     "name": "stdout",
     "output_type": "stream",
     "text": [
      "[{'a': 'A', 'c': 'C'}, {'b': 'B', 'c': 'D'}]\n",
      "c = C\n",
      "\n",
      "[{'b': 'B', 'c': 'D'}, {'a': 'A', 'c': 'C'}]\n",
      "c = D\n"
     ]
    }
   ],
   "source": [
    "a = {'a': 'A', 'c': 'C'}\n",
    "b = {'b': 'B', 'c': 'D'}\n",
    "\n",
    "m = collections.ChainMap(a, b)\n",
    "\n",
    "print(m.maps)\n",
    "print('c = {}\\n'.format(m['c']))\n",
    "\n",
    "# reverse the list\n",
    "m.maps = list(reversed(m.maps))\n",
    "\n",
    "print(m.maps)\n",
    "print('c = {}'.format(m['c']))"
   ]
  },
  {
   "cell_type": "code",
   "execution_count": null,
   "metadata": {},
   "outputs": [],
   "source": []
  },
  {
   "cell_type": "code",
   "execution_count": 4,
   "metadata": {},
   "outputs": [
    {
     "name": "stdout",
     "output_type": "stream",
     "text": [
      "Before: C\n",
      "After : E\n"
     ]
    }
   ],
   "source": [
    "a = {'a': 'A', 'c': 'C'}\n",
    "b = {'b': 'B', 'c': 'D'}\n",
    "\n",
    "m = collections.ChainMap(a, b)\n",
    "print('Before: {}'.format(m['c']))\n",
    "a['c'] = 'E'\n",
    "print('After : {}'.format(m['c']))"
   ]
  },
  {
   "cell_type": "code",
   "execution_count": null,
   "metadata": {},
   "outputs": [],
   "source": []
  },
  {
   "cell_type": "code",
   "execution_count": 5,
   "metadata": {},
   "outputs": [
    {
     "name": "stdout",
     "output_type": "stream",
     "text": [
      "Before: ChainMap({'a': 'A', 'c': 'C'}, {'b': 'B', 'c': 'D'})\n",
      "After : ChainMap({'a': 'A', 'c': 'E'}, {'b': 'B', 'c': 'D'})\n",
      "a: {'a': 'A', 'c': 'E'}\n"
     ]
    }
   ],
   "source": [
    "a = {'a': 'A', 'c': 'C'}\n",
    "b = {'b': 'B', 'c': 'D'}\n",
    "\n",
    "m = collections.ChainMap(a, b)\n",
    "print('Before:', m)\n",
    "m['c'] = 'E'\n",
    "print('After :', m)\n",
    "print('a:', a)"
   ]
  },
  {
   "cell_type": "code",
   "execution_count": null,
   "metadata": {},
   "outputs": [],
   "source": []
  },
  {
   "cell_type": "code",
   "execution_count": 7,
   "metadata": {},
   "outputs": [
    {
     "name": "stdout",
     "output_type": "stream",
     "text": [
      "m1 before: ChainMap({'a': 'A', 'c': 'C'}, {'b': 'B', 'c': 'D'})\n",
      "m2 before: ChainMap({}, {'a': 'A', 'c': 'C'}, {'b': 'B', 'c': 'D'})\n",
      "m1 after: ChainMap({'a': 'A', 'c': 'C'}, {'b': 'B', 'c': 'D'})\n",
      "m2 after: ChainMap({'c': 'E'}, {'a': 'A', 'c': 'C'}, {'b': 'B', 'c': 'D'})\n"
     ]
    }
   ],
   "source": [
    "a = {'a': 'A', 'c': 'C'}\n",
    "b = {'b': 'B', 'c': 'D'}\n",
    "\n",
    "m1 = collections.ChainMap(a, b)\n",
    "m2 = m1.new_child()  ## creating a new instance with one extra mapping at the front of the maps list\n",
    "\n",
    "print('m1 before:', m1)\n",
    "print('m2 before:', m2)\n",
    "\n",
    "m2['c'] = 'E'\n",
    "\n",
    "print('m1 after:', m1)\n",
    "print('m2 after:', m2)"
   ]
  },
  {
   "cell_type": "code",
   "execution_count": null,
   "metadata": {},
   "outputs": [],
   "source": []
  },
  {
   "cell_type": "code",
   "execution_count": 8,
   "metadata": {},
   "outputs": [
    {
     "name": "stdout",
     "output_type": "stream",
     "text": [
      "m1[\"c\"] = C\n",
      "m2[\"c\"] = E\n"
     ]
    }
   ],
   "source": [
    "a = {'a': 'A', 'c': 'C'}\n",
    "b = {'b': 'B', 'c': 'D'}\n",
    "c = {'c': 'E'}\n",
    "\n",
    "m1 = collections.ChainMap(a, b, c)\n",
    "m2 = m1.new_child(c)\n",
    "\n",
    "print('m1[\"c\"] = {}'.format(m1['c']))\n",
    "print('m2[\"c\"] = {}'.format(m2['c']))"
   ]
  },
  {
   "cell_type": "code",
   "execution_count": 9,
   "metadata": {},
   "outputs": [
    {
     "name": "stdout",
     "output_type": "stream",
     "text": [
      "m1[\"c\"] = C\n"
     ]
    }
   ],
   "source": [
    "a = {'a': 'A', 'c': 'C'}\n",
    "b = {'b': 'B', 'c': 'D'}\n",
    "c = {'c': 'E'}\n",
    "\n",
    "m1 = collections.ChainMap(a, b, c)\n",
    "\n",
    "print('m1[\"c\"] = {}'.format(m1['c']))"
   ]
  },
  {
   "cell_type": "code",
   "execution_count": null,
   "metadata": {},
   "outputs": [],
   "source": []
  }
 ],
 "metadata": {
  "kernelspec": {
   "display_name": "Python 3",
   "language": "python",
   "name": "python3"
  },
  "language_info": {
   "codemirror_mode": {
    "name": "ipython",
    "version": 3
   },
   "file_extension": ".py",
   "mimetype": "text/x-python",
   "name": "python",
   "nbconvert_exporter": "python",
   "pygments_lexer": "ipython3",
   "version": "3.6.9"
  }
 },
 "nbformat": 4,
 "nbformat_minor": 2
}
