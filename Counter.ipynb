{
 "cells": [
  {
   "cell_type": "code",
   "execution_count": 1,
   "metadata": {},
   "outputs": [],
   "source": [
    "import collections\n"
   ]
  },
  {
   "cell_type": "code",
   "execution_count": 2,
   "metadata": {},
   "outputs": [
    {
     "name": "stdout",
     "output_type": "stream",
     "text": [
      "Counter({'b': 3, 'a': 2, 'c': 1})\n",
      "Counter({'b': 3, 'a': 2, 'c': 1})\n",
      "Counter({'b': 3, 'a': 2, 'c': 1})\n"
     ]
    }
   ],
   "source": [
    "print(collections.Counter(['a', 'b', 'c', 'a', 'b', 'b']))\n",
    "print(collections.Counter({'a': 2, 'b': 3, 'c': 1}))\n",
    "print(collections.Counter(a=2, b=3, c=1))"
   ]
  },
  {
   "cell_type": "code",
   "execution_count": null,
   "metadata": {},
   "outputs": [],
   "source": []
  },
  {
   "cell_type": "code",
   "execution_count": 3,
   "metadata": {},
   "outputs": [
    {
     "name": "stdout",
     "output_type": "stream",
     "text": [
      "Initial : Counter()\n",
      "Sequence: Counter({'a': 3, 'b': 2, 'c': 1, 'd': 1})\n",
      "Dict    : Counter({'d': 6, 'a': 4, 'b': 2, 'c': 1})\n"
     ]
    }
   ],
   "source": [
    "c = collections.Counter()\n",
    "print('Initial :', c)\n",
    "\n",
    "c.update('abcdaab')\n",
    "print('Sequence:', c)\n",
    "\n",
    "c.update({'a': 1, 'd': 5})\n",
    "print('Dict    :', c)"
   ]
  },
  {
   "cell_type": "code",
   "execution_count": null,
   "metadata": {},
   "outputs": [],
   "source": []
  },
  {
   "cell_type": "code",
   "execution_count": 4,
   "metadata": {},
   "outputs": [
    {
     "name": "stdout",
     "output_type": "stream",
     "text": [
      "a : 3\n",
      "b : 2\n",
      "c : 1\n",
      "d : 1\n",
      "e : 0\n"
     ]
    }
   ],
   "source": [
    "c = collections.Counter('abcdaab')\n",
    "\n",
    "for letter in 'abcde':\n",
    "    print('{} : {}'.format(letter, c[letter]))"
   ]
  },
  {
   "cell_type": "code",
   "execution_count": 10,
   "metadata": {},
   "outputs": [
    {
     "name": "stdout",
     "output_type": "stream",
     "text": [
      "a : 3\n",
      "b : 2\n",
      "d : 1\n",
      "c : 1\n"
     ]
    }
   ],
   "source": [
    "c = collections.Counter('abcdaab')\n",
    "\n",
    "for letter in set(c.elements()):\n",
    "    print('{} : {}'.format(letter, c[letter]))"
   ]
  },
  {
   "cell_type": "code",
   "execution_count": 8,
   "metadata": {},
   "outputs": [
    {
     "name": "stdout",
     "output_type": "stream",
     "text": [
      "Counter({'e': 3, 'x': 1, 't': 1, 'r': 1, 'm': 1, 'l': 1, 'y': 1, 'z': 0})\n",
      "['e', 'e', 'e', 'x', 't', 'r', 'm', 'l', 'y']\n"
     ]
    }
   ],
   "source": [
    "c = collections.Counter('extremely')\n",
    "c['z'] = 0\n",
    "print(c)\n",
    "print(list(c.elements()))"
   ]
  },
  {
   "cell_type": "code",
   "execution_count": 9,
   "metadata": {},
   "outputs": [
    {
     "name": "stdout",
     "output_type": "stream",
     "text": [
      "e:       3\n",
      "x:       1\n",
      "t:       1\n"
     ]
    }
   ],
   "source": [
    "for letter, count in c.most_common(3):\n",
    "    print('{}: {:>7}'.format(letter, count))"
   ]
  },
  {
   "cell_type": "code",
   "execution_count": null,
   "metadata": {},
   "outputs": [],
   "source": []
  },
  {
   "cell_type": "code",
   "execution_count": 11,
   "metadata": {},
   "outputs": [
    {
     "name": "stdout",
     "output_type": "stream",
     "text": [
      "C1: Counter({'b': 3, 'a': 2, 'c': 1})\n",
      "C2: Counter({'a': 2, 'l': 1, 'p': 1, 'h': 1, 'b': 1, 'e': 1, 't': 1})\n",
      "\n",
      "Combined counts:\n",
      "Counter({'a': 4, 'b': 4, 'c': 1, 'l': 1, 'p': 1, 'h': 1, 'e': 1, 't': 1})\n",
      "\n",
      "Subtraction:\n",
      "Counter({'b': 2, 'c': 1})\n",
      "\n",
      "Intersection (taking positive minimums):\n",
      "Counter({'a': 2, 'b': 1})\n",
      "\n",
      "Union (taking maximums):\n",
      "Counter({'b': 3, 'a': 2, 'c': 1, 'l': 1, 'p': 1, 'h': 1, 'e': 1, 't': 1})\n"
     ]
    }
   ],
   "source": [
    "c1 = collections.Counter(['a', 'b', 'c', 'a', 'b', 'b'])\n",
    "c2 = collections.Counter('alphabet')\n",
    "\n",
    "print('C1:', c1)\n",
    "print('C2:', c2)\n",
    "\n",
    "print('\\nCombined counts:')\n",
    "print(c1 + c2)\n",
    "\n",
    "print('\\nSubtraction:')\n",
    "print(c1 - c2)\n",
    "\n",
    "print('\\nIntersection (taking positive minimums):')\n",
    "print(c1 & c2)\n",
    "\n",
    "print('\\nUnion (taking maximums):')\n",
    "print(c1 | c2)"
   ]
  },
  {
   "cell_type": "code",
   "execution_count": null,
   "metadata": {},
   "outputs": [],
   "source": []
  },
  {
   "cell_type": "code",
   "execution_count": 12,
   "metadata": {},
   "outputs": [
    {
     "name": "stdout",
     "output_type": "stream",
     "text": [
      "d: defaultdict(<function default_factory at 0x10d7e4950>, {'foo': 'bar'})\n",
      "foo => bar\n",
      "bar => default value\n"
     ]
    }
   ],
   "source": [
    "def default_factory():\n",
    "    return 'default value'\n",
    "\n",
    "\n",
    "d = collections.defaultdict(default_factory, foo='bar')\n",
    "print('d:', d)\n",
    "print('foo =>', d['foo'])\n",
    "print('bar =>', d['bar'])"
   ]
  },
  {
   "cell_type": "code",
   "execution_count": null,
   "metadata": {},
   "outputs": [],
   "source": []
  }
 ],
 "metadata": {
  "kernelspec": {
   "display_name": "Python 3",
   "language": "python",
   "name": "python3"
  },
  "language_info": {
   "codemirror_mode": {
    "name": "ipython",
    "version": 3
   },
   "file_extension": ".py",
   "mimetype": "text/x-python",
   "name": "python",
   "nbconvert_exporter": "python",
   "pygments_lexer": "ipython3",
   "version": "3.6.9"
  }
 },
 "nbformat": 4,
 "nbformat_minor": 2
}
